{
  "nbformat": 4,
  "nbformat_minor": 0,
  "metadata": {
    "colab": {
      "provenance": []
    },
    "kernelspec": {
      "name": "python3",
      "display_name": "Python 3"
    },
    "language_info": {
      "name": "python"
    }
  },
  "cells": [
    {
      "cell_type": "markdown",
      "source": [
        "#Proyecto 2\n",
        "##Hipótesis\n",
        "###Laboratoria"
      ],
      "metadata": {
        "id": "vLIb9BKCQOtf"
      }
    },
    {
      "cell_type": "markdown",
      "source": [
        "#Importar datos"
      ],
      "metadata": {
        "id": "ViQxiIWjOtTF"
      }
    },
    {
      "cell_type": "code",
      "execution_count": null,
      "metadata": {
        "colab": {
          "base_uri": "https://localhost:8080/"
        },
        "id": "hMlqZtNpQAZ_",
        "outputId": "fb1e5f78-1d8f-436e-f878-6e261f993370"
      },
      "outputs": [
        {
          "output_type": "stream",
          "name": "stdout",
          "text": [
            "Mounted at /content/drive\n"
          ]
        }
      ],
      "source": [
        "from google.colab import drive\n",
        "drive.mount (\"/content/drive\")"
      ]
    },
    {
      "cell_type": "code",
      "source": [
        "import pandas as pd\n",
        "\n",
        "data=pd.read_csv(\"/content/drive/MyDrive/bq-results-20231212-220518-1702418728673/bq-results-20231212-220518-1702418728673.csv\")"
      ],
      "metadata": {
        "id": "uvqvTc9DSIGr"
      },
      "execution_count": null,
      "outputs": []
    },
    {
      "cell_type": "code",
      "source": [
        "data"
      ],
      "metadata": {
        "colab": {
          "base_uri": "https://localhost:8080/",
          "height": 565
        },
        "id": "jtUXJ3m8Tccb",
        "outputId": "e7ec9718-1d53-453d-eecb-aaff5e40ee75"
      },
      "execution_count": null,
      "outputs": [
        {
          "output_type": "execute_result",
          "data": {
            "text/plain": [
              "    track_id  in_apple_playlists  in_apple_charts  in_deezer_playlists  \\\n",
              "0    2106751                  52               15                   35   \n",
              "1    7526938                  71               95                   31   \n",
              "2    5897675                  32                6                   46   \n",
              "3    8056641                  43               15                  116   \n",
              "4    2835063                  29                0                   44   \n",
              "..       ...                 ...              ...                  ...   \n",
              "947  1193878                   6               14                    8   \n",
              "948  6644972                  18              124                   24   \n",
              "949  2098417                   7               29                   51   \n",
              "950  6470158                  13               46                   20   \n",
              "951  8666108                  22               18                   15   \n",
              "\n",
              "     in_deezer_charts  artist_count  in_spotify_playlists  in_spotify_charts  \\\n",
              "0                   0             1                  2551                  0   \n",
              "1                   0             1                  3469                  0   \n",
              "2                   0             1                  3436                  0   \n",
              "3                   0             1                  2868                  0   \n",
              "4                   0             1                  2226                  0   \n",
              "..                ...           ...                   ...                ...   \n",
              "947                 2             2                   215                  6   \n",
              "948                 1             2                   832                  3   \n",
              "949                 1             2                   967                  5   \n",
              "950                 1             4                   551                  4   \n",
              "951                 1             5                   577                 14   \n",
              "\n",
              "                                     track_name_limpio  \\\n",
              "0                                        Super Gremlin   \n",
              "1                                                Shirt   \n",
              "2                                           Ain t Shit   \n",
              "3                                         Life Goes On   \n",
              "4                                                 2055   \n",
              "..                                                 ...   \n",
              "947      Lilith  feat  SUGA of BTS   Diablo IV Anthem    \n",
              "948                                              Layla   \n",
              "949                         Seu Brilho Sumiu   Ao Vivo   \n",
              "950  Annihilate  Spider Man  Across the Spider Vers...   \n",
              "951  Angel Pt 1  feat  Jimin of BTS  JVKE   Muni Long    \n",
              "\n",
              "                                  artist_name_limpio  ...  \\\n",
              "0                                        Kodak Black  ...   \n",
              "1                                                SZA  ...   \n",
              "2                                           Doja Cat  ...   \n",
              "3                                        Oliver Tree  ...   \n",
              "4                                      Sleepy hallow  ...   \n",
              "..                                               ...  ...   \n",
              "947                                     Halsey  Suga  ...   \n",
              "948                                   Sch  rze  DJ R  ...   \n",
              "949                Israel   Rodolffo  Mari Fernandez  ...   \n",
              "950        Swae Lee  Lil Wayne  Offset  Metro Boomin  ...   \n",
              "951  Kodak Black  NLE Choppa  Muni Long  JVKE  Jimin  ...   \n",
              "\n",
              "     categoria_streams_limpio categoria_bpm  categoria_danceability  \\\n",
              "0                     Popular          Bajo                    Alto   \n",
              "1                     Popular         Medio                    Alto   \n",
              "2                     Popular          Alto                    Alto   \n",
              "3                     Popular          Bajo                    Alto   \n",
              "4                     Popular      Muy alto                    Alto   \n",
              "..                        ...           ...                     ...   \n",
              "947          Muy poco popular          Bajo                    Bajo   \n",
              "948          Muy poco popular          Alto                    Bajo   \n",
              "949          Muy poco popular      Muy alto                    Bajo   \n",
              "950          Muy poco popular      Muy alto                    Bajo   \n",
              "951          Muy poco popular          Bajo                    Bajo   \n",
              "\n",
              "     categoria_valence  categoria_energy  categoria_acousticness  \\\n",
              "0                 Bajo              Bajo                    Bajo   \n",
              "1                 Alto              Bajo                    Bajo   \n",
              "2                 Alto              Bajo                    Alto   \n",
              "3                 Alto              Bajo                    Alto   \n",
              "4                 Alto              Bajo                    Alto   \n",
              "..                 ...               ...                     ...   \n",
              "947               Bajo              Alto                    Bajo   \n",
              "948               Bajo              Alto                    Bajo   \n",
              "949               Alto              Alto                    Alto   \n",
              "950               Bajo              Bajo                    Alto   \n",
              "951               Bajo              Alto                    Bajo   \n",
              "\n",
              "     categoria_instrumentalness  categoria_liveness  categoria_speechiness  \\\n",
              "0                          Alto                Alto                   Alto   \n",
              "1                          Alto                Bajo                   Alto   \n",
              "2                          Alto                Alto                   Alto   \n",
              "3                          Alto                Alto                   Alto   \n",
              "4                          Alto                Bajo                   Alto   \n",
              "..                          ...                 ...                    ...   \n",
              "947                        Bajo                Alto                   Alto   \n",
              "948                        Bajo                Alto                   Alto   \n",
              "949                        Bajo                Alto                   Bajo   \n",
              "950                        Bajo                Bajo                   Alto   \n",
              "951                        Bajo                Bajo                   Alto   \n",
              "\n",
              "     categoria_total_playlists  \n",
              "0               Presencia alta  \n",
              "1               Presencia alta  \n",
              "2               Presencia alta  \n",
              "3               Presencia alta  \n",
              "4              Presencia media  \n",
              "..                         ...  \n",
              "947             Presencia baja  \n",
              "948             Presencia baja  \n",
              "949            Presencia media  \n",
              "950             Presencia baja  \n",
              "951             Presencia baja  \n",
              "\n",
              "[952 rows x 34 columns]"
            ],
            "text/html": [
              "\n",
              "  <div id=\"df-912f1410-8d30-4259-a65f-37d05168b5eb\" class=\"colab-df-container\">\n",
              "    <div>\n",
              "<style scoped>\n",
              "    .dataframe tbody tr th:only-of-type {\n",
              "        vertical-align: middle;\n",
              "    }\n",
              "\n",
              "    .dataframe tbody tr th {\n",
              "        vertical-align: top;\n",
              "    }\n",
              "\n",
              "    .dataframe thead th {\n",
              "        text-align: right;\n",
              "    }\n",
              "</style>\n",
              "<table border=\"1\" class=\"dataframe\">\n",
              "  <thead>\n",
              "    <tr style=\"text-align: right;\">\n",
              "      <th></th>\n",
              "      <th>track_id</th>\n",
              "      <th>in_apple_playlists</th>\n",
              "      <th>in_apple_charts</th>\n",
              "      <th>in_deezer_playlists</th>\n",
              "      <th>in_deezer_charts</th>\n",
              "      <th>artist_count</th>\n",
              "      <th>in_spotify_playlists</th>\n",
              "      <th>in_spotify_charts</th>\n",
              "      <th>track_name_limpio</th>\n",
              "      <th>artist_name_limpio</th>\n",
              "      <th>...</th>\n",
              "      <th>categoria_streams_limpio</th>\n",
              "      <th>categoria_bpm</th>\n",
              "      <th>categoria_danceability</th>\n",
              "      <th>categoria_valence</th>\n",
              "      <th>categoria_energy</th>\n",
              "      <th>categoria_acousticness</th>\n",
              "      <th>categoria_instrumentalness</th>\n",
              "      <th>categoria_liveness</th>\n",
              "      <th>categoria_speechiness</th>\n",
              "      <th>categoria_total_playlists</th>\n",
              "    </tr>\n",
              "  </thead>\n",
              "  <tbody>\n",
              "    <tr>\n",
              "      <th>0</th>\n",
              "      <td>2106751</td>\n",
              "      <td>52</td>\n",
              "      <td>15</td>\n",
              "      <td>35</td>\n",
              "      <td>0</td>\n",
              "      <td>1</td>\n",
              "      <td>2551</td>\n",
              "      <td>0</td>\n",
              "      <td>Super Gremlin</td>\n",
              "      <td>Kodak Black</td>\n",
              "      <td>...</td>\n",
              "      <td>Popular</td>\n",
              "      <td>Bajo</td>\n",
              "      <td>Alto</td>\n",
              "      <td>Bajo</td>\n",
              "      <td>Bajo</td>\n",
              "      <td>Bajo</td>\n",
              "      <td>Alto</td>\n",
              "      <td>Alto</td>\n",
              "      <td>Alto</td>\n",
              "      <td>Presencia alta</td>\n",
              "    </tr>\n",
              "    <tr>\n",
              "      <th>1</th>\n",
              "      <td>7526938</td>\n",
              "      <td>71</td>\n",
              "      <td>95</td>\n",
              "      <td>31</td>\n",
              "      <td>0</td>\n",
              "      <td>1</td>\n",
              "      <td>3469</td>\n",
              "      <td>0</td>\n",
              "      <td>Shirt</td>\n",
              "      <td>SZA</td>\n",
              "      <td>...</td>\n",
              "      <td>Popular</td>\n",
              "      <td>Medio</td>\n",
              "      <td>Alto</td>\n",
              "      <td>Alto</td>\n",
              "      <td>Bajo</td>\n",
              "      <td>Bajo</td>\n",
              "      <td>Alto</td>\n",
              "      <td>Bajo</td>\n",
              "      <td>Alto</td>\n",
              "      <td>Presencia alta</td>\n",
              "    </tr>\n",
              "    <tr>\n",
              "      <th>2</th>\n",
              "      <td>5897675</td>\n",
              "      <td>32</td>\n",
              "      <td>6</td>\n",
              "      <td>46</td>\n",
              "      <td>0</td>\n",
              "      <td>1</td>\n",
              "      <td>3436</td>\n",
              "      <td>0</td>\n",
              "      <td>Ain t Shit</td>\n",
              "      <td>Doja Cat</td>\n",
              "      <td>...</td>\n",
              "      <td>Popular</td>\n",
              "      <td>Alto</td>\n",
              "      <td>Alto</td>\n",
              "      <td>Alto</td>\n",
              "      <td>Bajo</td>\n",
              "      <td>Alto</td>\n",
              "      <td>Alto</td>\n",
              "      <td>Alto</td>\n",
              "      <td>Alto</td>\n",
              "      <td>Presencia alta</td>\n",
              "    </tr>\n",
              "    <tr>\n",
              "      <th>3</th>\n",
              "      <td>8056641</td>\n",
              "      <td>43</td>\n",
              "      <td>15</td>\n",
              "      <td>116</td>\n",
              "      <td>0</td>\n",
              "      <td>1</td>\n",
              "      <td>2868</td>\n",
              "      <td>0</td>\n",
              "      <td>Life Goes On</td>\n",
              "      <td>Oliver Tree</td>\n",
              "      <td>...</td>\n",
              "      <td>Popular</td>\n",
              "      <td>Bajo</td>\n",
              "      <td>Alto</td>\n",
              "      <td>Alto</td>\n",
              "      <td>Bajo</td>\n",
              "      <td>Alto</td>\n",
              "      <td>Alto</td>\n",
              "      <td>Alto</td>\n",
              "      <td>Alto</td>\n",
              "      <td>Presencia alta</td>\n",
              "    </tr>\n",
              "    <tr>\n",
              "      <th>4</th>\n",
              "      <td>2835063</td>\n",
              "      <td>29</td>\n",
              "      <td>0</td>\n",
              "      <td>44</td>\n",
              "      <td>0</td>\n",
              "      <td>1</td>\n",
              "      <td>2226</td>\n",
              "      <td>0</td>\n",
              "      <td>2055</td>\n",
              "      <td>Sleepy hallow</td>\n",
              "      <td>...</td>\n",
              "      <td>Popular</td>\n",
              "      <td>Muy alto</td>\n",
              "      <td>Alto</td>\n",
              "      <td>Alto</td>\n",
              "      <td>Bajo</td>\n",
              "      <td>Alto</td>\n",
              "      <td>Alto</td>\n",
              "      <td>Bajo</td>\n",
              "      <td>Alto</td>\n",
              "      <td>Presencia media</td>\n",
              "    </tr>\n",
              "    <tr>\n",
              "      <th>...</th>\n",
              "      <td>...</td>\n",
              "      <td>...</td>\n",
              "      <td>...</td>\n",
              "      <td>...</td>\n",
              "      <td>...</td>\n",
              "      <td>...</td>\n",
              "      <td>...</td>\n",
              "      <td>...</td>\n",
              "      <td>...</td>\n",
              "      <td>...</td>\n",
              "      <td>...</td>\n",
              "      <td>...</td>\n",
              "      <td>...</td>\n",
              "      <td>...</td>\n",
              "      <td>...</td>\n",
              "      <td>...</td>\n",
              "      <td>...</td>\n",
              "      <td>...</td>\n",
              "      <td>...</td>\n",
              "      <td>...</td>\n",
              "      <td>...</td>\n",
              "    </tr>\n",
              "    <tr>\n",
              "      <th>947</th>\n",
              "      <td>1193878</td>\n",
              "      <td>6</td>\n",
              "      <td>14</td>\n",
              "      <td>8</td>\n",
              "      <td>2</td>\n",
              "      <td>2</td>\n",
              "      <td>215</td>\n",
              "      <td>6</td>\n",
              "      <td>Lilith  feat  SUGA of BTS   Diablo IV Anthem</td>\n",
              "      <td>Halsey  Suga</td>\n",
              "      <td>...</td>\n",
              "      <td>Muy poco popular</td>\n",
              "      <td>Bajo</td>\n",
              "      <td>Bajo</td>\n",
              "      <td>Bajo</td>\n",
              "      <td>Alto</td>\n",
              "      <td>Bajo</td>\n",
              "      <td>Bajo</td>\n",
              "      <td>Alto</td>\n",
              "      <td>Alto</td>\n",
              "      <td>Presencia baja</td>\n",
              "    </tr>\n",
              "    <tr>\n",
              "      <th>948</th>\n",
              "      <td>6644972</td>\n",
              "      <td>18</td>\n",
              "      <td>124</td>\n",
              "      <td>24</td>\n",
              "      <td>1</td>\n",
              "      <td>2</td>\n",
              "      <td>832</td>\n",
              "      <td>3</td>\n",
              "      <td>Layla</td>\n",
              "      <td>Sch  rze  DJ R</td>\n",
              "      <td>...</td>\n",
              "      <td>Muy poco popular</td>\n",
              "      <td>Alto</td>\n",
              "      <td>Bajo</td>\n",
              "      <td>Bajo</td>\n",
              "      <td>Alto</td>\n",
              "      <td>Bajo</td>\n",
              "      <td>Bajo</td>\n",
              "      <td>Alto</td>\n",
              "      <td>Alto</td>\n",
              "      <td>Presencia baja</td>\n",
              "    </tr>\n",
              "    <tr>\n",
              "      <th>949</th>\n",
              "      <td>2098417</td>\n",
              "      <td>7</td>\n",
              "      <td>29</td>\n",
              "      <td>51</td>\n",
              "      <td>1</td>\n",
              "      <td>2</td>\n",
              "      <td>967</td>\n",
              "      <td>5</td>\n",
              "      <td>Seu Brilho Sumiu   Ao Vivo</td>\n",
              "      <td>Israel   Rodolffo  Mari Fernandez</td>\n",
              "      <td>...</td>\n",
              "      <td>Muy poco popular</td>\n",
              "      <td>Muy alto</td>\n",
              "      <td>Bajo</td>\n",
              "      <td>Alto</td>\n",
              "      <td>Alto</td>\n",
              "      <td>Alto</td>\n",
              "      <td>Bajo</td>\n",
              "      <td>Alto</td>\n",
              "      <td>Bajo</td>\n",
              "      <td>Presencia media</td>\n",
              "    </tr>\n",
              "    <tr>\n",
              "      <th>950</th>\n",
              "      <td>6470158</td>\n",
              "      <td>13</td>\n",
              "      <td>46</td>\n",
              "      <td>20</td>\n",
              "      <td>1</td>\n",
              "      <td>4</td>\n",
              "      <td>551</td>\n",
              "      <td>4</td>\n",
              "      <td>Annihilate  Spider Man  Across the Spider Vers...</td>\n",
              "      <td>Swae Lee  Lil Wayne  Offset  Metro Boomin</td>\n",
              "      <td>...</td>\n",
              "      <td>Muy poco popular</td>\n",
              "      <td>Muy alto</td>\n",
              "      <td>Bajo</td>\n",
              "      <td>Bajo</td>\n",
              "      <td>Bajo</td>\n",
              "      <td>Alto</td>\n",
              "      <td>Bajo</td>\n",
              "      <td>Bajo</td>\n",
              "      <td>Alto</td>\n",
              "      <td>Presencia baja</td>\n",
              "    </tr>\n",
              "    <tr>\n",
              "      <th>951</th>\n",
              "      <td>8666108</td>\n",
              "      <td>22</td>\n",
              "      <td>18</td>\n",
              "      <td>15</td>\n",
              "      <td>1</td>\n",
              "      <td>5</td>\n",
              "      <td>577</td>\n",
              "      <td>14</td>\n",
              "      <td>Angel Pt 1  feat  Jimin of BTS  JVKE   Muni Long</td>\n",
              "      <td>Kodak Black  NLE Choppa  Muni Long  JVKE  Jimin</td>\n",
              "      <td>...</td>\n",
              "      <td>Muy poco popular</td>\n",
              "      <td>Bajo</td>\n",
              "      <td>Bajo</td>\n",
              "      <td>Bajo</td>\n",
              "      <td>Alto</td>\n",
              "      <td>Bajo</td>\n",
              "      <td>Bajo</td>\n",
              "      <td>Bajo</td>\n",
              "      <td>Alto</td>\n",
              "      <td>Presencia baja</td>\n",
              "    </tr>\n",
              "  </tbody>\n",
              "</table>\n",
              "<p>952 rows × 34 columns</p>\n",
              "</div>\n",
              "    <div class=\"colab-df-buttons\">\n",
              "\n",
              "  <div class=\"colab-df-container\">\n",
              "    <button class=\"colab-df-convert\" onclick=\"convertToInteractive('df-912f1410-8d30-4259-a65f-37d05168b5eb')\"\n",
              "            title=\"Convert this dataframe to an interactive table.\"\n",
              "            style=\"display:none;\">\n",
              "\n",
              "  <svg xmlns=\"http://www.w3.org/2000/svg\" height=\"24px\" viewBox=\"0 -960 960 960\">\n",
              "    <path d=\"M120-120v-720h720v720H120Zm60-500h600v-160H180v160Zm220 220h160v-160H400v160Zm0 220h160v-160H400v160ZM180-400h160v-160H180v160Zm440 0h160v-160H620v160ZM180-180h160v-160H180v160Zm440 0h160v-160H620v160Z\"/>\n",
              "  </svg>\n",
              "    </button>\n",
              "\n",
              "  <style>\n",
              "    .colab-df-container {\n",
              "      display:flex;\n",
              "      gap: 12px;\n",
              "    }\n",
              "\n",
              "    .colab-df-convert {\n",
              "      background-color: #E8F0FE;\n",
              "      border: none;\n",
              "      border-radius: 50%;\n",
              "      cursor: pointer;\n",
              "      display: none;\n",
              "      fill: #1967D2;\n",
              "      height: 32px;\n",
              "      padding: 0 0 0 0;\n",
              "      width: 32px;\n",
              "    }\n",
              "\n",
              "    .colab-df-convert:hover {\n",
              "      background-color: #E2EBFA;\n",
              "      box-shadow: 0px 1px 2px rgba(60, 64, 67, 0.3), 0px 1px 3px 1px rgba(60, 64, 67, 0.15);\n",
              "      fill: #174EA6;\n",
              "    }\n",
              "\n",
              "    .colab-df-buttons div {\n",
              "      margin-bottom: 4px;\n",
              "    }\n",
              "\n",
              "    [theme=dark] .colab-df-convert {\n",
              "      background-color: #3B4455;\n",
              "      fill: #D2E3FC;\n",
              "    }\n",
              "\n",
              "    [theme=dark] .colab-df-convert:hover {\n",
              "      background-color: #434B5C;\n",
              "      box-shadow: 0px 1px 3px 1px rgba(0, 0, 0, 0.15);\n",
              "      filter: drop-shadow(0px 1px 2px rgba(0, 0, 0, 0.3));\n",
              "      fill: #FFFFFF;\n",
              "    }\n",
              "  </style>\n",
              "\n",
              "    <script>\n",
              "      const buttonEl =\n",
              "        document.querySelector('#df-912f1410-8d30-4259-a65f-37d05168b5eb button.colab-df-convert');\n",
              "      buttonEl.style.display =\n",
              "        google.colab.kernel.accessAllowed ? 'block' : 'none';\n",
              "\n",
              "      async function convertToInteractive(key) {\n",
              "        const element = document.querySelector('#df-912f1410-8d30-4259-a65f-37d05168b5eb');\n",
              "        const dataTable =\n",
              "          await google.colab.kernel.invokeFunction('convertToInteractive',\n",
              "                                                    [key], {});\n",
              "        if (!dataTable) return;\n",
              "\n",
              "        const docLinkHtml = 'Like what you see? Visit the ' +\n",
              "          '<a target=\"_blank\" href=https://colab.research.google.com/notebooks/data_table.ipynb>data table notebook</a>'\n",
              "          + ' to learn more about interactive tables.';\n",
              "        element.innerHTML = '';\n",
              "        dataTable['output_type'] = 'display_data';\n",
              "        await google.colab.output.renderOutput(dataTable, element);\n",
              "        const docLink = document.createElement('div');\n",
              "        docLink.innerHTML = docLinkHtml;\n",
              "        element.appendChild(docLink);\n",
              "      }\n",
              "    </script>\n",
              "  </div>\n",
              "\n",
              "\n",
              "<div id=\"df-435b4d40-2d90-44e0-8343-cd96a85bd59d\">\n",
              "  <button class=\"colab-df-quickchart\" onclick=\"quickchart('df-435b4d40-2d90-44e0-8343-cd96a85bd59d')\"\n",
              "            title=\"Suggest charts\"\n",
              "            style=\"display:none;\">\n",
              "\n",
              "<svg xmlns=\"http://www.w3.org/2000/svg\" height=\"24px\"viewBox=\"0 0 24 24\"\n",
              "     width=\"24px\">\n",
              "    <g>\n",
              "        <path d=\"M19 3H5c-1.1 0-2 .9-2 2v14c0 1.1.9 2 2 2h14c1.1 0 2-.9 2-2V5c0-1.1-.9-2-2-2zM9 17H7v-7h2v7zm4 0h-2V7h2v10zm4 0h-2v-4h2v4z\"/>\n",
              "    </g>\n",
              "</svg>\n",
              "  </button>\n",
              "\n",
              "<style>\n",
              "  .colab-df-quickchart {\n",
              "      --bg-color: #E8F0FE;\n",
              "      --fill-color: #1967D2;\n",
              "      --hover-bg-color: #E2EBFA;\n",
              "      --hover-fill-color: #174EA6;\n",
              "      --disabled-fill-color: #AAA;\n",
              "      --disabled-bg-color: #DDD;\n",
              "  }\n",
              "\n",
              "  [theme=dark] .colab-df-quickchart {\n",
              "      --bg-color: #3B4455;\n",
              "      --fill-color: #D2E3FC;\n",
              "      --hover-bg-color: #434B5C;\n",
              "      --hover-fill-color: #FFFFFF;\n",
              "      --disabled-bg-color: #3B4455;\n",
              "      --disabled-fill-color: #666;\n",
              "  }\n",
              "\n",
              "  .colab-df-quickchart {\n",
              "    background-color: var(--bg-color);\n",
              "    border: none;\n",
              "    border-radius: 50%;\n",
              "    cursor: pointer;\n",
              "    display: none;\n",
              "    fill: var(--fill-color);\n",
              "    height: 32px;\n",
              "    padding: 0;\n",
              "    width: 32px;\n",
              "  }\n",
              "\n",
              "  .colab-df-quickchart:hover {\n",
              "    background-color: var(--hover-bg-color);\n",
              "    box-shadow: 0 1px 2px rgba(60, 64, 67, 0.3), 0 1px 3px 1px rgba(60, 64, 67, 0.15);\n",
              "    fill: var(--button-hover-fill-color);\n",
              "  }\n",
              "\n",
              "  .colab-df-quickchart-complete:disabled,\n",
              "  .colab-df-quickchart-complete:disabled:hover {\n",
              "    background-color: var(--disabled-bg-color);\n",
              "    fill: var(--disabled-fill-color);\n",
              "    box-shadow: none;\n",
              "  }\n",
              "\n",
              "  .colab-df-spinner {\n",
              "    border: 2px solid var(--fill-color);\n",
              "    border-color: transparent;\n",
              "    border-bottom-color: var(--fill-color);\n",
              "    animation:\n",
              "      spin 1s steps(1) infinite;\n",
              "  }\n",
              "\n",
              "  @keyframes spin {\n",
              "    0% {\n",
              "      border-color: transparent;\n",
              "      border-bottom-color: var(--fill-color);\n",
              "      border-left-color: var(--fill-color);\n",
              "    }\n",
              "    20% {\n",
              "      border-color: transparent;\n",
              "      border-left-color: var(--fill-color);\n",
              "      border-top-color: var(--fill-color);\n",
              "    }\n",
              "    30% {\n",
              "      border-color: transparent;\n",
              "      border-left-color: var(--fill-color);\n",
              "      border-top-color: var(--fill-color);\n",
              "      border-right-color: var(--fill-color);\n",
              "    }\n",
              "    40% {\n",
              "      border-color: transparent;\n",
              "      border-right-color: var(--fill-color);\n",
              "      border-top-color: var(--fill-color);\n",
              "    }\n",
              "    60% {\n",
              "      border-color: transparent;\n",
              "      border-right-color: var(--fill-color);\n",
              "    }\n",
              "    80% {\n",
              "      border-color: transparent;\n",
              "      border-right-color: var(--fill-color);\n",
              "      border-bottom-color: var(--fill-color);\n",
              "    }\n",
              "    90% {\n",
              "      border-color: transparent;\n",
              "      border-bottom-color: var(--fill-color);\n",
              "    }\n",
              "  }\n",
              "</style>\n",
              "\n",
              "  <script>\n",
              "    async function quickchart(key) {\n",
              "      const quickchartButtonEl =\n",
              "        document.querySelector('#' + key + ' button');\n",
              "      quickchartButtonEl.disabled = true;  // To prevent multiple clicks.\n",
              "      quickchartButtonEl.classList.add('colab-df-spinner');\n",
              "      try {\n",
              "        const charts = await google.colab.kernel.invokeFunction(\n",
              "            'suggestCharts', [key], {});\n",
              "      } catch (error) {\n",
              "        console.error('Error during call to suggestCharts:', error);\n",
              "      }\n",
              "      quickchartButtonEl.classList.remove('colab-df-spinner');\n",
              "      quickchartButtonEl.classList.add('colab-df-quickchart-complete');\n",
              "    }\n",
              "    (() => {\n",
              "      let quickchartButtonEl =\n",
              "        document.querySelector('#df-435b4d40-2d90-44e0-8343-cd96a85bd59d button');\n",
              "      quickchartButtonEl.style.display =\n",
              "        google.colab.kernel.accessAllowed ? 'block' : 'none';\n",
              "    })();\n",
              "  </script>\n",
              "</div>\n",
              "\n",
              "  <div id=\"id_34548539-0fc4-4f78-b73e-16e620f6af9c\">\n",
              "    <style>\n",
              "      .colab-df-generate {\n",
              "        background-color: #E8F0FE;\n",
              "        border: none;\n",
              "        border-radius: 50%;\n",
              "        cursor: pointer;\n",
              "        display: none;\n",
              "        fill: #1967D2;\n",
              "        height: 32px;\n",
              "        padding: 0 0 0 0;\n",
              "        width: 32px;\n",
              "      }\n",
              "\n",
              "      .colab-df-generate:hover {\n",
              "        background-color: #E2EBFA;\n",
              "        box-shadow: 0px 1px 2px rgba(60, 64, 67, 0.3), 0px 1px 3px 1px rgba(60, 64, 67, 0.15);\n",
              "        fill: #174EA6;\n",
              "      }\n",
              "\n",
              "      [theme=dark] .colab-df-generate {\n",
              "        background-color: #3B4455;\n",
              "        fill: #D2E3FC;\n",
              "      }\n",
              "\n",
              "      [theme=dark] .colab-df-generate:hover {\n",
              "        background-color: #434B5C;\n",
              "        box-shadow: 0px 1px 3px 1px rgba(0, 0, 0, 0.15);\n",
              "        filter: drop-shadow(0px 1px 2px rgba(0, 0, 0, 0.3));\n",
              "        fill: #FFFFFF;\n",
              "      }\n",
              "    </style>\n",
              "    <button class=\"colab-df-generate\" onclick=\"generateWithVariable('data')\"\n",
              "            title=\"Generate code using this dataframe.\"\n",
              "            style=\"display:none;\">\n",
              "\n",
              "  <svg xmlns=\"http://www.w3.org/2000/svg\" height=\"24px\"viewBox=\"0 0 24 24\"\n",
              "       width=\"24px\">\n",
              "    <path d=\"M7,19H8.4L18.45,9,17,7.55,7,17.6ZM5,21V16.75L18.45,3.32a2,2,0,0,1,2.83,0l1.4,1.43a1.91,1.91,0,0,1,.58,1.4,1.91,1.91,0,0,1-.58,1.4L9.25,21ZM18.45,9,17,7.55Zm-12,3A5.31,5.31,0,0,0,4.9,8.1,5.31,5.31,0,0,0,1,6.5,5.31,5.31,0,0,0,4.9,4.9,5.31,5.31,0,0,0,6.5,1,5.31,5.31,0,0,0,8.1,4.9,5.31,5.31,0,0,0,12,6.5,5.46,5.46,0,0,0,6.5,12Z\"/>\n",
              "  </svg>\n",
              "    </button>\n",
              "    <script>\n",
              "      (() => {\n",
              "      const buttonEl =\n",
              "        document.querySelector('#id_34548539-0fc4-4f78-b73e-16e620f6af9c button.colab-df-generate');\n",
              "      buttonEl.style.display =\n",
              "        google.colab.kernel.accessAllowed ? 'block' : 'none';\n",
              "\n",
              "      buttonEl.onclick = () => {\n",
              "        google.colab.notebook.generateWithVariable('data');\n",
              "      }\n",
              "      })();\n",
              "    </script>\n",
              "  </div>\n",
              "\n",
              "    </div>\n",
              "  </div>\n"
            ]
          },
          "metadata": {},
          "execution_count": 3
        }
      ]
    },
    {
      "cell_type": "markdown",
      "source": [
        "#Hito 2\n",
        "##Pruebas de Significancia\n",
        "\n",
        "Entender si es significativa la diferencia entre los streams promedio de cada grupo:alto y bajo de cada característica.\n",
        "\n",
        "\n",
        "Ho:Hipótesis nula\n",
        "\n",
        "Ha:Hipótesis alternativa.\n",
        "\n",
        "Ho: No hay diferencia entre el promedio de los streams alto y bajo.\n",
        "\n",
        "Ha: Si hay diferencia entre el promedio de los streams alto y bajo."
      ],
      "metadata": {
        "id": "1iuKgA99ValN"
      }
    },
    {
      "cell_type": "markdown",
      "source": [
        "####Energy"
      ],
      "metadata": {
        "id": "QvoBK_zfGnPZ"
      }
    },
    {
      "cell_type": "code",
      "source": [
        "# Filtro para la categoría \"alto\" de la característica energy\n",
        "data_filtrado_alto = data.loc[data['categoria_energy'] == \"Alto\"]\n",
        "\n",
        "# Calcula el promedio de los streams para la categoría \"alto\"\n",
        "promedio_energy_alto = data_filtrado_alto['streams_limpio'].mean()\n",
        "\n",
        "# Muestra el resultado\n",
        "print(f\"Promedio de streams para la categoría 'alto': {promedio_energy_alto}\")\n",
        "\n",
        "# Se repite el proceso para hacer el filtro de la categoría \"bajo\"\n",
        "data_filtrado_bajo = data.loc[data['categoria_energy'] == \"Bajo\"]\n",
        "promedio_energy_bajo = data_filtrado_bajo['streams_limpio'].mean()\n",
        "print(f\"Promedio streams energy bajo: {promedio_energy_bajo}\")"
      ],
      "metadata": {
        "colab": {
          "base_uri": "https://localhost:8080/"
        },
        "id": "Wes4ATc0UqqH",
        "outputId": "237b5be0-2c42-4207-cc34-68498e4c05a3"
      },
      "execution_count": null,
      "outputs": [
        {
          "output_type": "stream",
          "name": "stdout",
          "text": [
            "Promedio de streams para la categoría 'alto': 497825796.5431579\n",
            "Promedio streams energy bajo: 530380660.7631027\n"
          ]
        }
      ]
    },
    {
      "cell_type": "code",
      "source": [
        "from scipy.stats import mannwhitneyu\n",
        "\n",
        "# Crear listas para almacenar streams según la categoría 'Alto' y 'Bajo'\n",
        "streams_alto = promedio_energy_alto\n",
        "streams_bajo = promedio_energy_bajo\n",
        "\n",
        "# Aplicar el test de Wilcoxon (Mann-Whitney U test)\n",
        "statistic, p_value = mannwhitneyu(streams_alto, streams_bajo, alternative='two-sided')\n",
        "\n",
        "# Imprimir los resultados\n",
        "print(f\"Estadística U: {statistic}\")\n",
        "print(f\"Valor p: {p_value}\")\n",
        "\n",
        "# Analizar los resultados\n",
        "alpha = 0.05\n",
        "if p_value < alpha:\n",
        "    print(\"Se rechaza la hipótesis nula: Hay una diferencia significativa entre las categorías 'Alto' y 'Bajo'\")\n",
        "else:\n",
        "    print(\"No se puede rechazar la hipótesis nula: No hay una diferencia significativa entre las categorías 'Alto' y 'Bajo'\")"
      ],
      "metadata": {
        "colab": {
          "base_uri": "https://localhost:8080/"
        },
        "id": "ehYWFohTVGdy",
        "outputId": "f4987387-24f0-4e3c-f795-709f10701bf6"
      },
      "execution_count": null,
      "outputs": [
        {
          "output_type": "stream",
          "name": "stdout",
          "text": [
            "Estadística U: 0.0\n",
            "Valor p: 1.0\n",
            "No se puede rechazar la hipótesis nula: No hay una diferencia significativa entre las categorías 'Alto' y 'Bajo'\n"
          ]
        }
      ]
    },
    {
      "cell_type": "markdown",
      "source": [
        "####Danceability"
      ],
      "metadata": {
        "id": "IElqHo-MGw5P"
      }
    },
    {
      "cell_type": "code",
      "source": [
        "# Filtro para la categoría \"alto\" de la característica danceability\n",
        "data_filtrado_alto = data.loc[data['categoria_danceability'] == \"Alto\"]\n",
        "\n",
        "# Calcula el promedio de los streams para la categoría \"alto\"\n",
        "promedio_danceability_alto = data_filtrado_alto['streams_limpio'].mean()\n",
        "\n",
        "# Muestra el resultado\n",
        "print(f\"Promedio de streams para la categoría 'alto': {promedio_danceability_alto}\")\n",
        "\n",
        "# Se repite el proceso para hacer el filtro de la categoría \"bajo\"\n",
        "data_filtrado_bajo = data.loc[data['categoria_danceability'] == \"Bajo\"]\n",
        "promedio_danceability_bajo = data_filtrado_bajo['streams_limpio'].mean()\n",
        "print(f\"Promedio streams danceability bajo: {promedio_danceability_bajo}\")"
      ],
      "metadata": {
        "colab": {
          "base_uri": "https://localhost:8080/"
        },
        "id": "rfJe0_UqFgaf",
        "outputId": "51fa2d4f-e619-420f-dc73-ef17e42c312a"
      },
      "execution_count": null,
      "outputs": [
        {
          "output_type": "stream",
          "name": "stdout",
          "text": [
            "Promedio de streams para la categoría 'alto': 471950529.17436975\n",
            "Promedio streams danceability bajo: 556324320.7037815\n"
          ]
        }
      ]
    },
    {
      "cell_type": "code",
      "source": [
        "from scipy.stats import mannwhitneyu\n",
        "\n",
        "# Crear listas para almacenar streams según la categoría 'Alto' y 'Bajo'\n",
        "streams_alto = promedio_danceability_alto\n",
        "streams_bajo = promedio_danceability_bajo\n",
        "\n",
        "# Aplicar el test de Wilcoxon (Mann-Whitney U test)\n",
        "statistic, p_value = mannwhitneyu(streams_alto, streams_bajo, alternative='two-sided')\n",
        "\n",
        "# Imprimir los resultados\n",
        "print(f\"Estadística U: {statistic}\")\n",
        "print(f\"Valor p: {p_value}\")\n",
        "\n",
        "# Analizar los resultados\n",
        "alpha = 0.05\n",
        "if p_value < alpha:\n",
        "    print(\"Se rechaza la hipótesis nula: Hay una diferencia significativa entre las categorías 'Alto' y 'Bajo'\")\n",
        "else:\n",
        "    print(\"No se puede rechazar la hipótesis nula: No hay una diferencia significativa entre las categorías 'Alto' y 'Bajo'\")"
      ],
      "metadata": {
        "colab": {
          "base_uri": "https://localhost:8080/"
        },
        "id": "ECgKTDe5JpGe",
        "outputId": "c71351ba-b472-477d-9cca-282276610c90"
      },
      "execution_count": null,
      "outputs": [
        {
          "output_type": "stream",
          "name": "stdout",
          "text": [
            "Estadística U: 0.0\n",
            "Valor p: 1.0\n",
            "No se puede rechazar la hipótesis nula: No hay una diferencia significativa entre las categorías 'Alto' y 'Bajo'\n"
          ]
        }
      ]
    },
    {
      "cell_type": "markdown",
      "source": [
        "####Valence"
      ],
      "metadata": {
        "id": "JHLQ-wnCG3UT"
      }
    },
    {
      "cell_type": "code",
      "source": [
        "# Filtro para la categoría \"alto\" de la característica valence\n",
        "data_filtrado_alto = data.loc[data['categoria_valence'] == \"Alto\"]\n",
        "\n",
        "# Calcula el promedio de los streams para la categoría \"alto\"\n",
        "promedio_valence_alto = data_filtrado_alto['streams_limpio'].mean()\n",
        "\n",
        "# Muestra el resultado\n",
        "print(f\"Promedio de streams para la categoría 'alto': {promedio_valence_alto}\")\n",
        "\n",
        "# Se repite el proceso para hacer el filtro de la categoría \"bajo\"\n",
        "data_filtrado_bajo = data.loc[data['categoria_valence'] == \"Bajo\"]\n",
        "promedio_valence_bajo = data_filtrado_bajo['streams_limpio'].mean()\n",
        "print(f\"Promedio streams valence bajo: {promedio_valence_bajo}\")"
      ],
      "metadata": {
        "colab": {
          "base_uri": "https://localhost:8080/"
        },
        "id": "m8AWXyQeG5hu",
        "outputId": "dd975494-a0c6-4831-e7aa-2c7c82dea777"
      },
      "execution_count": null,
      "outputs": [
        {
          "output_type": "stream",
          "name": "stdout",
          "text": [
            "Promedio de streams para la categoría 'alto': 487800008.7010526\n",
            "Promedio streams valence bajo: 540364411.7589098\n"
          ]
        }
      ]
    },
    {
      "cell_type": "code",
      "source": [
        "from scipy.stats import mannwhitneyu\n",
        "\n",
        "# Crear listas para almacenar streams según la categoría 'Alto' y 'Bajo'\n",
        "streams_alto = promedio_valence_alto\n",
        "streams_bajo = promedio_valence_bajo\n",
        "\n",
        "# Aplicar el test de Wilcoxon (Mann-Whitney U test)\n",
        "statistic, p_value = mannwhitneyu(streams_alto, streams_bajo, alternative='two-sided')\n",
        "\n",
        "# Imprimir los resultados\n",
        "print(f\"Estadística U: {statistic}\")\n",
        "print(f\"Valor p: {p_value}\")\n",
        "\n",
        "# Analizar los resultados\n",
        "alpha = 0.05\n",
        "if p_value < alpha:\n",
        "    print(\"Se rechaza la hipótesis nula: Hay una diferencia significativa entre las categorías 'Alto' y 'Bajo'\")\n",
        "else:\n",
        "    print(\"No se puede rechazar la hipótesis nula: No hay una diferencia significativa entre las categorías 'Alto' y 'Bajo'\")"
      ],
      "metadata": {
        "colab": {
          "base_uri": "https://localhost:8080/"
        },
        "id": "bMxSRiKOJ5sJ",
        "outputId": "edaedeff-e0cc-454f-81e9-e3993e47a537"
      },
      "execution_count": null,
      "outputs": [
        {
          "output_type": "stream",
          "name": "stdout",
          "text": [
            "Estadística U: 0.0\n",
            "Valor p: 1.0\n",
            "No se puede rechazar la hipótesis nula: No hay una diferencia significativa entre las categorías 'Alto' y 'Bajo'\n"
          ]
        }
      ]
    },
    {
      "cell_type": "markdown",
      "source": [
        "####acousticness"
      ],
      "metadata": {
        "id": "Vn5qdIixHZkt"
      }
    },
    {
      "cell_type": "code",
      "source": [
        "# Filtro para la categoría \"alto\" de la característica acousticness\n",
        "data_filtrado_alto = data.loc[data['categoria_acousticness'] == \"Alto\"]\n",
        "\n",
        "# Calcula el promedio de los streams para la categoría \"alto\"\n",
        "promedio_acousticness_alto = data_filtrado_alto['streams_limpio'].mean()\n",
        "\n",
        "# Muestra el resultado\n",
        "print(f\"Promedio de streams para la categoría 'alto': {promedio_acousticness_alto}\")\n",
        "\n",
        "# Se repite el proceso para hacer el filtro de la categoría \"bajo\"\n",
        "data_filtrado_bajo = data.loc[data['categoria_acousticness'] == \"Bajo\"]\n",
        "promedio_acousticness_bajo = data_filtrado_bajo['streams_limpio'].mean()\n",
        "print(f\"Promedio streams acousticness bajo: {promedio_acousticness_bajo}\")"
      ],
      "metadata": {
        "colab": {
          "base_uri": "https://localhost:8080/"
        },
        "id": "HpfJBpQ4HYa5",
        "outputId": "2059dff5-68db-4032-8734-57d3366ba38f"
      },
      "execution_count": null,
      "outputs": [
        {
          "output_type": "stream",
          "name": "stdout",
          "text": [
            "Promedio de streams para la categoría 'alto': 496014419.04831934\n",
            "Promedio streams acousticness bajo: 532260430.82983196\n"
          ]
        }
      ]
    },
    {
      "cell_type": "code",
      "source": [
        "from scipy.stats import mannwhitneyu\n",
        "\n",
        "# Crear listas para almacenar streams según la categoría 'Alto' y 'Bajo'\n",
        "streams_alto = promedio_acousticness_alto\n",
        "streams_bajo = promedio_acousticness_bajo\n",
        "\n",
        "# Aplicar el test de Wilcoxon (Mann-Whitney U test)\n",
        "statistic, p_value = mannwhitneyu(streams_alto, streams_bajo, alternative='two-sided')\n",
        "\n",
        "# Imprimir los resultados\n",
        "print(f\"Estadística U: {statistic}\")\n",
        "print(f\"Valor p: {p_value}\")\n",
        "\n",
        "# Analizar los resultados\n",
        "alpha = 0.05\n",
        "if p_value < alpha:\n",
        "    print(\"Se rechaza la hipótesis nula: Hay una diferencia significativa entre las categorías 'Alto' y 'Bajo'\")\n",
        "else:\n",
        "    print(\"No se puede rechazar la hipótesis nula: No hay una diferencia significativa entre las categorías 'Alto' y 'Bajo'\")"
      ],
      "metadata": {
        "colab": {
          "base_uri": "https://localhost:8080/"
        },
        "id": "gtF4LnPDKA4b",
        "outputId": "98407324-5680-423f-da34-bf16aecb27fc"
      },
      "execution_count": null,
      "outputs": [
        {
          "output_type": "stream",
          "name": "stdout",
          "text": [
            "Estadística U: 0.0\n",
            "Valor p: 1.0\n",
            "No se puede rechazar la hipótesis nula: No hay una diferencia significativa entre las categorías 'Alto' y 'Bajo'\n"
          ]
        }
      ]
    },
    {
      "cell_type": "markdown",
      "source": [
        "####instrumentalness"
      ],
      "metadata": {
        "id": "NId_r3WDHwKm"
      }
    },
    {
      "cell_type": "code",
      "source": [
        "# Filtro para la categoría \"alto\" de la característica instrumentalness\n",
        "data_filtrado_alto = data.loc[data['categoria_instrumentalness'] == \"Alto\"]\n",
        "\n",
        "# Calcula el promedio de los streams para la categoría \"alto\"\n",
        "promedio_instrumentalness_alto = data_filtrado_alto['streams_limpio'].mean()\n",
        "\n",
        "# Muestra el resultado\n",
        "print(f\"Promedio de streams para la categoría 'alto': {promedio_instrumentalness_alto}\")\n",
        "\n",
        "# Se repite el proceso para hacer el filtro de la categoría \"bajo\"\n",
        "data_filtrado_bajo = data.loc[data['categoria_instrumentalness'] == \"Bajo\"]\n",
        "promedio_instrumentalness_bajo = data_filtrado_bajo['streams_limpio'].mean()\n",
        "print(f\"Promedio streams instrumentalness bajo: {promedio_instrumentalness_bajo}\")"
      ],
      "metadata": {
        "colab": {
          "base_uri": "https://localhost:8080/"
        },
        "id": "brQOOeMIH3Pm",
        "outputId": "c81942e4-1ec7-4564-dd35-3cb6f2b09d8b"
      },
      "execution_count": null,
      "outputs": [
        {
          "output_type": "stream",
          "name": "stdout",
          "text": [
            "Promedio de streams para la categoría 'alto': 472411945.12421054\n",
            "Promedio streams instrumentalness bajo: 555687955.1530398\n"
          ]
        }
      ]
    },
    {
      "cell_type": "code",
      "source": [
        "from scipy.stats import mannwhitneyu\n",
        "\n",
        "# Crear listas para almacenar streams según la categoría 'Alto' y 'Bajo'\n",
        "streams_alto = promedio_instrumentalness_alto\n",
        "streams_bajo = promedio_instrumentalness_bajo\n",
        "\n",
        "# Aplicar el test de Wilcoxon (Mann-Whitney U test)\n",
        "statistic, p_value = mannwhitneyu(streams_alto, streams_bajo, alternative='two-sided')\n",
        "\n",
        "# Imprimir los resultados\n",
        "print(f\"Estadística U: {statistic}\")\n",
        "print(f\"Valor p: {p_value}\")\n",
        "\n",
        "# Analizar los resultados\n",
        "alpha = 0.05\n",
        "if p_value < alpha:\n",
        "    print(\"Se rechaza la hipótesis nula: Hay una diferencia significativa entre las categorías 'Alto' y 'Bajo'\")\n",
        "else:\n",
        "    print(\"No se puede rechazar la hipótesis nula: No hay una diferencia significativa entre las categorías 'Alto' y 'Bajo'\")"
      ],
      "metadata": {
        "colab": {
          "base_uri": "https://localhost:8080/"
        },
        "id": "M49r7rVtKCbt",
        "outputId": "44b72947-a61a-4d6d-8361-07367190e4f2"
      },
      "execution_count": null,
      "outputs": [
        {
          "output_type": "stream",
          "name": "stdout",
          "text": [
            "Estadística U: 0.0\n",
            "Valor p: 1.0\n",
            "No se puede rechazar la hipótesis nula: No hay una diferencia significativa entre las categorías 'Alto' y 'Bajo'\n"
          ]
        }
      ]
    },
    {
      "cell_type": "markdown",
      "source": [
        "####liveness"
      ],
      "metadata": {
        "id": "j1LyAF75Ikjc"
      }
    },
    {
      "cell_type": "code",
      "source": [
        "# Filtro para la categoría \"alto\" de la característica liveness\n",
        "data_filtrado_alto = data.loc[data['categoria_liveness'] == \"Alto\"]\n",
        "\n",
        "# Calcula el promedio de los streams para la categoría \"alto\"\n",
        "promedio_liveness_alto = data_filtrado_alto['streams_limpio'].mean()\n",
        "\n",
        "# Muestra el resultado\n",
        "print(f\"Promedio de streams para la categoría 'alto': {promedio_liveness_alto}\")\n",
        "\n",
        "# Se repite el proceso para hacer el filtro de la categoría \"bajo\"\n",
        "data_filtrado_bajo = data.loc[data['categoria_liveness'] == \"Bajo\"]\n",
        "promedio_liveness_bajo = data_filtrado_bajo['streams_limpio'].mean()\n",
        "print(f\"Promedio streams liveness bajo: {promedio_liveness_bajo}\")"
      ],
      "metadata": {
        "colab": {
          "base_uri": "https://localhost:8080/"
        },
        "id": "epixBA05Iwm-",
        "outputId": "27f169fe-e9e2-46c0-e44b-8e2d10215a50"
      },
      "execution_count": null,
      "outputs": [
        {
          "output_type": "stream",
          "name": "stdout",
          "text": [
            "Promedio de streams para la categoría 'alto': 499930285.58105266\n",
            "Promedio streams liveness bajo: 528284995.5786164\n"
          ]
        }
      ]
    },
    {
      "cell_type": "code",
      "source": [
        "from scipy.stats import mannwhitneyu\n",
        "\n",
        "# Crear listas para almacenar streams según la categoría 'Alto' y 'Bajo'\n",
        "streams_alto = promedio_liveness_alto\n",
        "streams_bajo = promedio_liveness_bajo\n",
        "\n",
        "# Aplicar el test de Wilcoxon (Mann-Whitney U test)\n",
        "statistic, p_value = mannwhitneyu(streams_alto, streams_bajo, alternative='two-sided')\n",
        "\n",
        "# Imprimir los resultados\n",
        "print(f\"Estadística U: {statistic}\")\n",
        "print(f\"Valor p: {p_value}\")\n",
        "\n",
        "# Analizar los resultados\n",
        "alpha = 0.05\n",
        "if p_value < alpha:\n",
        "    print(\"Se rechaza la hipótesis nula: Hay una diferencia significativa entre las categorías 'Alto' y 'Bajo'\")\n",
        "else:\n",
        "    print(\"No se puede rechazar la hipótesis nula: No hay una diferencia significativa entre las categorías 'Alto' y 'Bajo'\")"
      ],
      "metadata": {
        "colab": {
          "base_uri": "https://localhost:8080/"
        },
        "id": "hSWmTGXkKDxI",
        "outputId": "4363c65e-adb9-43d5-b9b7-cc0a25813fa4"
      },
      "execution_count": null,
      "outputs": [
        {
          "output_type": "stream",
          "name": "stdout",
          "text": [
            "Estadística U: 0.0\n",
            "Valor p: 1.0\n",
            "No se puede rechazar la hipótesis nula: No hay una diferencia significativa entre las categorías 'Alto' y 'Bajo'\n"
          ]
        }
      ]
    },
    {
      "cell_type": "markdown",
      "source": [
        "####speechiness"
      ],
      "metadata": {
        "id": "CY9rohjkJIqB"
      }
    },
    {
      "cell_type": "code",
      "source": [
        "# Filtro para la categoría \"alto\" de la característica speechiness\n",
        "data_filtrado_alto = data.loc[data['categoria_speechiness'] == \"Alto\"]\n",
        "\n",
        "# Calcula el promedio de los streams para la categoría \"alto\"\n",
        "promedio_speechiness_alto = data_filtrado_alto['streams_limpio'].mean()\n",
        "\n",
        "# Muestra el resultado\n",
        "print(f\"Promedio de streams para la categoría 'alto': {promedio_speechiness_alto}\")\n",
        "\n",
        "# Se repite el proceso para hacer el filtro de la categoría \"bajo\"\n",
        "data_filtrado_bajo = data.loc[data['categoria_liveness'] == \"Bajo\"]\n",
        "promedio_speechiness_bajo = data_filtrado_bajo['streams_limpio'].mean()\n",
        "print(f\"Promedio streams speechiness bajo: {promedio_speechiness_bajo}\")"
      ],
      "metadata": {
        "colab": {
          "base_uri": "https://localhost:8080/"
        },
        "id": "Dmb3bUeeJJzk",
        "outputId": "9a080506-74ec-4423-c3ba-b580a483cb9b"
      },
      "execution_count": null,
      "outputs": [
        {
          "output_type": "stream",
          "name": "stdout",
          "text": [
            "Promedio de streams para la categoría 'alto': 467869212.2962185\n",
            "Promedio streams speechiness bajo: 528284995.5786164\n"
          ]
        }
      ]
    },
    {
      "cell_type": "code",
      "source": [
        "from scipy.stats import mannwhitneyu\n",
        "\n",
        "# Crear listas para almacenar streams según la categoría 'Alto' y 'Bajo'\n",
        "streams_alto = promedio_speechiness_alto\n",
        "streams_bajo = promedio_speechiness_bajo\n",
        "\n",
        "# Aplicar el test de Wilcoxon (Mann-Whitney U test)\n",
        "statistic, p_value = mannwhitneyu(streams_alto, streams_bajo, alternative='two-sided')\n",
        "\n",
        "# Imprimir los resultados\n",
        "print(f\"Estadística U: {statistic}\")\n",
        "print(f\"Valor p: {p_value}\")\n",
        "\n",
        "# Analizar los resultados\n",
        "alpha = 0.05\n",
        "if p_value < alpha:\n",
        "    print(\"Se rechaza la hipótesis nula: Hay una diferencia significativa entre las categorías 'Alto' y 'Bajo'\")\n",
        "else:\n",
        "    print(\"No se puede rechazar la hipótesis nula: No hay una diferencia significativa entre las categorías 'Alto' y 'Bajo'\")"
      ],
      "metadata": {
        "colab": {
          "base_uri": "https://localhost:8080/"
        },
        "id": "ldGEMYJeKFbr",
        "outputId": "efb900aa-f12a-442d-fe27-94b4edabc0e4"
      },
      "execution_count": null,
      "outputs": [
        {
          "output_type": "stream",
          "name": "stdout",
          "text": [
            "Estadística U: 0.0\n",
            "Valor p: 1.0\n",
            "No se puede rechazar la hipótesis nula: No hay una diferencia significativa entre las categorías 'Alto' y 'Bajo'\n"
          ]
        }
      ]
    },
    {
      "cell_type": "markdown",
      "source": [
        "##Tabla Resumen"
      ],
      "metadata": {
        "id": "pIb7XdQxLJLY"
      }
    },
    {
      "cell_type": "code",
      "source": [
        "# Lista de características adicionales\n",
        "caracteristicas_adicionales = ['danceability','valence', 'energy', 'acousticness', 'instrumentalness', 'liveness', 'speechiness']\n",
        "\n",
        "# Crear un diccionario para almacenar los resultados de cada característica\n",
        "resultados_caracteristicas = {}\n",
        "\n",
        "# Iterar sobre las características adicionales\n",
        "for caracteristica in caracteristicas_adicionales:\n",
        "    # Filtro para la categoría \"alto\" de la característica actual\n",
        "    data_filtrado_alto = data.loc[data[f'categoria_{caracteristica}'] == \"Alto\"]\n",
        "\n",
        "    # Calcula estadísticas para la categoría \"alto\" de la característica actual\n",
        "    promedio_alto = data_filtrado_alto['streams_limpio'].mean()\n",
        "    conteo_alto = data_filtrado_alto['streams_limpio'].count()\n",
        "    maximo_alto = data_filtrado_alto['streams_limpio'].max()\n",
        "    minimo_alto = data_filtrado_alto['streams_limpio'].min()\n",
        "    std_alto = data_filtrado_alto['streams_limpio'].std()\n",
        "\n",
        "    # Repite el proceso para la categoría \"bajo\" de la característica actual\n",
        "    data_filtrado_bajo = data.loc[data[f'categoria_{caracteristica}'] == \"Bajo\"]\n",
        "    promedio_bajo = data_filtrado_bajo['streams_limpio'].mean()\n",
        "    conteo_bajo = data_filtrado_bajo['streams_limpio'].count()\n",
        "    maximo_bajo = data_filtrado_bajo['streams_limpio'].max()\n",
        "    minimo_bajo = data_filtrado_bajo['streams_limpio'].min()\n",
        "    std_bajo = data_filtrado_bajo['streams_limpio'].std()\n",
        "\n",
        "    # Crea una scorecard ampliada para la característica actual sin mediana y moda\n",
        "    scorecard = pd.DataFrame({\n",
        "        'Categoría': ['Alto', 'Bajo'],\n",
        "        'Conteo': [conteo_alto, conteo_bajo],\n",
        "        'Promedio': [promedio_alto, promedio_bajo],\n",
        "        'Máximo': [maximo_alto, maximo_bajo],\n",
        "        'Mínimo': [minimo_alto, minimo_bajo],\n",
        "        'Desviación Estándar': [std_alto, std_bajo]\n",
        "    })\n",
        "\n",
        "    # Almacena la scorecard en el diccionario de resultados\n",
        "    resultados_caracteristicas[caracteristica] = scorecard\n",
        "\n",
        "# Imprime las scorecards para cada característica\n",
        "for caracteristica, scorecard in resultados_caracteristicas.items():\n",
        "    print(f\"\\nScorecard para {caracteristica}:\\n{scorecard}\")\n"
      ],
      "metadata": {
        "colab": {
          "base_uri": "https://localhost:8080/"
        },
        "id": "lgjJrS9iMftb",
        "outputId": "76809e99-3b4c-4834-fe0c-68c3e1b98853"
      },
      "execution_count": null,
      "outputs": [
        {
          "output_type": "stream",
          "name": "stdout",
          "text": [
            "\n",
            "Scorecard para danceability:\n",
            "  Categoría  Conteo      Promedio      Máximo   Mínimo  Desviación Estándar\n",
            "0      Alto     476  4.719505e+08  3562543890  1365184         5.294587e+08\n",
            "1      Bajo     476  5.563243e+08  3703895074     2762         5.995303e+08\n",
            "\n",
            "Scorecard para valence:\n",
            "  Categoría  Conteo      Promedio      Máximo    Mínimo  Desviación Estándar\n",
            "0      Alto     475  4.878000e+08  3562543890      2762         5.482627e+08\n",
            "1      Bajo     477  5.403644e+08  3703895074  14780425         5.841816e+08\n",
            "\n",
            "Scorecard para energy:\n",
            "  Categoría  Conteo      Promedio      Máximo   Mínimo  Desviación Estándar\n",
            "0      Alto     475  4.978258e+08  3703895074  1365184         5.430120e+08\n",
            "1      Bajo     477  5.303807e+08  3562543890     2762         5.897673e+08\n",
            "\n",
            "Scorecard para acousticness:\n",
            "  Categoría  Conteo      Promedio      Máximo   Mínimo  Desviación Estándar\n",
            "0      Alto     476  4.960144e+08  3562543890     2762         5.717294e+08\n",
            "1      Bajo     476  5.322604e+08  3703895074  1365184         5.619585e+08\n",
            "\n",
            "Scorecard para instrumentalness:\n",
            "  Categoría  Conteo      Promedio      Máximo    Mínimo  Desviación Estándar\n",
            "0      Alto     475  4.724119e+08  3562543890  14780425         5.124141e+08\n",
            "1      Bajo     477  5.556880e+08  3703895074      2762         6.140408e+08\n",
            "\n",
            "Scorecard para liveness:\n",
            "  Categoría  Conteo      Promedio      Máximo   Mínimo  Desviación Estándar\n",
            "0      Alto     475  4.999303e+08  2864791672  1365184         5.317893e+08\n",
            "1      Bajo     477  5.282850e+08  3703895074     2762         5.999707e+08\n",
            "\n",
            "Scorecard para speechiness:\n",
            "  Categoría  Conteo      Promedio      Máximo   Mínimo  Desviación Estándar\n",
            "0      Alto     476  4.678692e+08  3703895074  1365184         5.392091e+08\n",
            "1      Bajo     476  5.604056e+08  2887241814     2762         5.901637e+08\n"
          ]
        }
      ]
    },
    {
      "cell_type": "markdown",
      "source": [
        "#Hito 3\n",
        "##Regresión Lineal"
      ],
      "metadata": {
        "id": "HuKar9KZVpSQ"
      }
    },
    {
      "cell_type": "markdown",
      "source": [
        "###Total playlists vs streams"
      ],
      "metadata": {
        "id": "IGYddCYE810v"
      }
    },
    {
      "cell_type": "code",
      "source": [
        "import pandas as pd\n",
        "from sklearn.linear_model import LinearRegression\n",
        "\n",
        "data=pd.read_csv(\"/content/drive/MyDrive/bq-results-20231212-220518-1702418728673/bq-results-20231212-220518-1702418728673.csv\")\n",
        "\n",
        "data.plot.scatter(x=\"total_playlists\", y=\"streams_limpio\")\n"
      ],
      "metadata": {
        "colab": {
          "base_uri": "https://localhost:8080/",
          "height": 482
        },
        "id": "o1J88mCsV4pM",
        "outputId": "0d804f2b-1287-4f45-9ca2-0b094d665631"
      },
      "execution_count": null,
      "outputs": [
        {
          "output_type": "execute_result",
          "data": {
            "text/plain": [
              "<Axes: xlabel='total_playlists', ylabel='streams_limpio'>"
            ]
          },
          "metadata": {},
          "execution_count": 6
        },
        {
          "output_type": "display_data",
          "data": {
            "text/plain": [
              "<Figure size 640x480 with 1 Axes>"
            ],
            "image/png": "[encoded data removed]"
          },
          "metadata": {}
        }
      ]
    },
    {
      "cell_type": "code",
      "source": [
        "reg = LinearRegression()"
      ],
      "metadata": {
        "id": "C53iaz8UXCpb"
      },
      "execution_count": null,
      "outputs": []
    },
    {
      "cell_type": "code",
      "source": [
        "reg.fit(data[[\"total_playlists\"]], data[\"streams_limpio\"])"
      ],
      "metadata": {
        "colab": {
          "base_uri": "https://localhost:8080/",
          "height": 75
        },
        "id": "EMsNLtDXXFve",
        "outputId": "2668109d-d0c5-432d-b557-57b220bb081c"
      },
      "execution_count": null,
      "outputs": [
        {
          "output_type": "execute_result",
          "data": {
            "text/plain": [
              "LinearRegression()"
            ],
            "text/html": [
              "<style>#sk-container-id-1 {color: black;background-color: white;}#sk-container-id-1 pre{padding: 0;}#sk-container-id-1 div.sk-toggleable {background-color: white;}#sk-container-id-1 label.sk-toggleable__label {cursor: pointer;display: block;width: 100%;margin-bottom: 0;padding: 0.3em;box-sizing: border-box;text-align: center;}#sk-container-id-1 label.sk-toggleable__label-arrow:before {content: \"▸\";float: left;margin-right: 0.25em;color: #696969;}#sk-container-id-1 label.sk-toggleable__label-arrow:hover:before {color: black;}#sk-container-id-1 div.sk-estimator:hover label.sk-toggleable__label-arrow:before {color: black;}#sk-container-id-1 div.sk-toggleable__content {max-height: 0;max-width: 0;overflow: hidden;text-align: left;background-color: #f0f8ff;}#sk-container-id-1 div.sk-toggleable__content pre {margin: 0.2em;color: black;border-radius: 0.25em;background-color: #f0f8ff;}#sk-container-id-1 input.sk-toggleable__control:checked~div.sk-toggleable__content {max-height: 200px;max-width: 100%;overflow: auto;}#sk-container-id-1 input.sk-toggleable__control:checked~label.sk-toggleable__label-arrow:before {content: \"▾\";}#sk-container-id-1 div.sk-estimator input.sk-toggleable__control:checked~label.sk-toggleable__label {background-color: #d4ebff;}#sk-container-id-1 div.sk-label input.sk-toggleable__control:checked~label.sk-toggleable__label {background-color: #d4ebff;}#sk-container-id-1 input.sk-hidden--visually {border: 0;clip: rect(1px 1px 1px 1px);clip: rect(1px, 1px, 1px, 1px);height: 1px;margin: -1px;overflow: hidden;padding: 0;position: absolute;width: 1px;}#sk-container-id-1 div.sk-estimator {font-family: monospace;background-color: #f0f8ff;border: 1px dotted black;border-radius: 0.25em;box-sizing: border-box;margin-bottom: 0.5em;}#sk-container-id-1 div.sk-estimator:hover {background-color: #d4ebff;}#sk-container-id-1 div.sk-parallel-item::after {content: \"\";width: 100%;border-bottom: 1px solid gray;flex-grow: 1;}#sk-container-id-1 div.sk-label:hover label.sk-toggleable__label {background-color: #d4ebff;}#sk-container-id-1 div.sk-serial::before {content: \"\";position: absolute;border-left: 1px solid gray;box-sizing: border-box;top: 0;bottom: 0;left: 50%;z-index: 0;}#sk-container-id-1 div.sk-serial {display: flex;flex-direction: column;align-items: center;background-color: white;padding-right: 0.2em;padding-left: 0.2em;position: relative;}#sk-container-id-1 div.sk-item {position: relative;z-index: 1;}#sk-container-id-1 div.sk-parallel {display: flex;align-items: stretch;justify-content: center;background-color: white;position: relative;}#sk-container-id-1 div.sk-item::before, #sk-container-id-1 div.sk-parallel-item::before {content: \"\";position: absolute;border-left: 1px solid gray;box-sizing: border-box;top: 0;bottom: 0;left: 50%;z-index: -1;}#sk-container-id-1 div.sk-parallel-item {display: flex;flex-direction: column;z-index: 1;position: relative;background-color: white;}#sk-container-id-1 div.sk-parallel-item:first-child::after {align-self: flex-end;width: 50%;}#sk-container-id-1 div.sk-parallel-item:last-child::after {align-self: flex-start;width: 50%;}#sk-container-id-1 div.sk-parallel-item:only-child::after {width: 0;}#sk-container-id-1 div.sk-dashed-wrapped {border: 1px dashed gray;margin: 0 0.4em 0.5em 0.4em;box-sizing: border-box;padding-bottom: 0.4em;background-color: white;}#sk-container-id-1 div.sk-label label {font-family: monospace;font-weight: bold;display: inline-block;line-height: 1.2em;}#sk-container-id-1 div.sk-label-container {text-align: center;}#sk-container-id-1 div.sk-container {/* jupyter's `normalize.less` sets `[hidden] { display: none; }` but bootstrap.min.css set `[hidden] { display: none !important; }` so we also need the `!important` here to be able to override the default hidden behavior on the sphinx rendered scikit-learn.org. See: https://github.com/scikit-learn/scikit-learn/issues/21755 */display: inline-block !important;position: relative;}#sk-container-id-1 div.sk-text-repr-fallback {display: none;}</style><div id=\"sk-container-id-1\" class=\"sk-top-container\"><div class=\"sk-text-repr-fallback\"><pre>LinearRegression()</pre><b>In a Jupyter environment, please rerun this cell to show the HTML representation or trust the notebook. <br />On GitHub, the HTML representation is unable to render, please try loading this page with nbviewer.org.</b></div><div class=\"sk-container\" hidden><div class=\"sk-item\"><div class=\"sk-estimator sk-toggleable\"><input class=\"sk-toggleable__control sk-hidden--visually\" id=\"sk-estimator-id-1\" type=\"checkbox\" checked><label for=\"sk-estimator-id-1\" class=\"sk-toggleable__label sk-toggleable__label-arrow\">LinearRegression</label><div class=\"sk-toggleable__content\"><pre>LinearRegression()</pre></div></div></div></div></div>"
            ]
          },
          "metadata": {},
          "execution_count": 8
        }
      ]
    },
    {
      "cell_type": "code",
      "source": [
        "reg.predict([[70000],[80000]])"
      ],
      "metadata": {
        "colab": {
          "base_uri": "https://localhost:8080/"
        },
        "id": "1OOnoC1ZXRS_",
        "outputId": "8111a048-df36-40c9-f337-67d2cbef7c60"
      },
      "execution_count": null,
      "outputs": [
        {
          "output_type": "stream",
          "name": "stderr",
          "text": [
            "/usr/local/lib/python3.10/dist-packages/sklearn/base.py:439: UserWarning: X does not have valid feature names, but LinearRegression was fitted with feature names\n",
            "  warnings.warn(\n"
          ]
        },
        {
          "output_type": "execute_result",
          "data": {
            "text/plain": [
              "array([3.71631015e+09, 4.21397444e+09])"
            ]
          },
          "metadata": {},
          "execution_count": 9
        }
      ]
    },
    {
      "cell_type": "markdown",
      "source": [
        "###Verificando con la ecuación de la recta y = mx+b\n"
      ],
      "metadata": {
        "id": "ply0eLciXm-_"
      }
    },
    {
      "cell_type": "code",
      "source": [
        "print(f\"la línea intersecta en : {reg.intercept_} y tiene una pendiente de { reg.coef_}\")"
      ],
      "metadata": {
        "colab": {
          "base_uri": "https://localhost:8080/"
        },
        "id": "vvcWTH0hXmW0",
        "outputId": "c7707e5f-0d5c-4666-9224-f60a30e7862e"
      },
      "execution_count": null,
      "outputs": [
        {
          "output_type": "stream",
          "name": "stdout",
          "text": [
            "la línea intersecta en : 232660123.3436364 y tiene una pendiente de [49766.42894995]\n"
          ]
        }
      ]
    },
    {
      "cell_type": "code",
      "source": [
        "reg.coef_ * data[\"total_playlists\"] + reg.intercept_"
      ],
      "metadata": {
        "colab": {
          "base_uri": "https://localhost:8080/"
        },
        "id": "g0SHeRIsZJA9",
        "outputId": "fd87915e-8b6b-42ec-cd4f-0bb1c21dda84"
      },
      "execution_count": null,
      "outputs": [
        {
          "output_type": "execute_result",
          "data": {
            "text/plain": [
              "0      3.639440e+08\n",
              "1      4.103760e+08\n",
              "2      4.075394e+08\n",
              "3      3.833031e+08\n",
              "4      3.470731e+08\n",
              "           ...     \n",
              "947    2.440566e+08\n",
              "948    2.761560e+08\n",
              "949    2.836707e+08\n",
              "950    2.617237e+08\n",
              "951    2.632167e+08\n",
              "Name: total_playlists, Length: 952, dtype: float64"
            ]
          },
          "metadata": {},
          "execution_count": 11
        }
      ]
    },
    {
      "cell_type": "code",
      "source": [
        "pred = pd.Series(reg.predict(data[[\"total_playlists\"]]))"
      ],
      "metadata": {
        "id": "mt7Ej8VYZgdk"
      },
      "execution_count": null,
      "outputs": []
    },
    {
      "cell_type": "code",
      "source": [
        "data[\"prediccion\"] = pred"
      ],
      "metadata": {
        "id": "EF_-tMt-ZpxS"
      },
      "execution_count": null,
      "outputs": []
    },
    {
      "cell_type": "code",
      "source": [
        "data"
      ],
      "metadata": {
        "id": "Qs-5pDTmovh4",
        "outputId": "5c746a61-03dc-4035-eb25-8c60c85e69ad",
        "colab": {
          "base_uri": "https://localhost:8080/",
          "height": 565
        }
      },
      "execution_count": null,
      "outputs": [
        {
          "output_type": "execute_result",
          "data": {
            "text/plain": [
              "    track_id  in_apple_playlists  in_apple_charts  in_deezer_playlists  \\\n",
              "0    2106751                  52               15                   35   \n",
              "1    7526938                  71               95                   31   \n",
              "2    5897675                  32                6                   46   \n",
              "3    8056641                  43               15                  116   \n",
              "4    2835063                  29                0                   44   \n",
              "..       ...                 ...              ...                  ...   \n",
              "947  1193878                   6               14                    8   \n",
              "948  6644972                  18              124                   24   \n",
              "949  2098417                   7               29                   51   \n",
              "950  6470158                  13               46                   20   \n",
              "951  8666108                  22               18                   15   \n",
              "\n",
              "     in_deezer_charts  artist_count  in_spotify_playlists  in_spotify_charts  \\\n",
              "0                   0             1                  2551                  0   \n",
              "1                   0             1                  3469                  0   \n",
              "2                   0             1                  3436                  0   \n",
              "3                   0             1                  2868                  0   \n",
              "4                   0             1                  2226                  0   \n",
              "..                ...           ...                   ...                ...   \n",
              "947                 2             2                   215                  6   \n",
              "948                 1             2                   832                  3   \n",
              "949                 1             2                   967                  5   \n",
              "950                 1             4                   551                  4   \n",
              "951                 1             5                   577                 14   \n",
              "\n",
              "                                     track_name_limpio  \\\n",
              "0                                        Super Gremlin   \n",
              "1                                                Shirt   \n",
              "2                                           Ain t Shit   \n",
              "3                                         Life Goes On   \n",
              "4                                                 2055   \n",
              "..                                                 ...   \n",
              "947      Lilith  feat  SUGA of BTS   Diablo IV Anthem    \n",
              "948                                              Layla   \n",
              "949                         Seu Brilho Sumiu   Ao Vivo   \n",
              "950  Annihilate  Spider Man  Across the Spider Vers...   \n",
              "951  Angel Pt 1  feat  Jimin of BTS  JVKE   Muni Long    \n",
              "\n",
              "                                  artist_name_limpio  ...  categoria_bpm  \\\n",
              "0                                        Kodak Black  ...           Bajo   \n",
              "1                                                SZA  ...          Medio   \n",
              "2                                           Doja Cat  ...           Alto   \n",
              "3                                        Oliver Tree  ...           Bajo   \n",
              "4                                      Sleepy hallow  ...       Muy alto   \n",
              "..                                               ...  ...            ...   \n",
              "947                                     Halsey  Suga  ...           Bajo   \n",
              "948                                   Sch  rze  DJ R  ...           Alto   \n",
              "949                Israel   Rodolffo  Mari Fernandez  ...       Muy alto   \n",
              "950        Swae Lee  Lil Wayne  Offset  Metro Boomin  ...       Muy alto   \n",
              "951  Kodak Black  NLE Choppa  Muni Long  JVKE  Jimin  ...           Bajo   \n",
              "\n",
              "    categoria_danceability  categoria_valence  categoria_energy  \\\n",
              "0                     Alto               Bajo              Bajo   \n",
              "1                     Alto               Alto              Bajo   \n",
              "2                     Alto               Alto              Bajo   \n",
              "3                     Alto               Alto              Bajo   \n",
              "4                     Alto               Alto              Bajo   \n",
              "..                     ...                ...               ...   \n",
              "947                   Bajo               Bajo              Alto   \n",
              "948                   Bajo               Bajo              Alto   \n",
              "949                   Bajo               Alto              Alto   \n",
              "950                   Bajo               Bajo              Bajo   \n",
              "951                   Bajo               Bajo              Alto   \n",
              "\n",
              "     categoria_acousticness  categoria_instrumentalness  categoria_liveness  \\\n",
              "0                      Bajo                        Alto                Alto   \n",
              "1                      Bajo                        Alto                Bajo   \n",
              "2                      Alto                        Alto                Alto   \n",
              "3                      Alto                        Alto                Alto   \n",
              "4                      Alto                        Alto                Bajo   \n",
              "..                      ...                         ...                 ...   \n",
              "947                    Bajo                        Bajo                Alto   \n",
              "948                    Bajo                        Bajo                Alto   \n",
              "949                    Alto                        Bajo                Alto   \n",
              "950                    Alto                        Bajo                Bajo   \n",
              "951                    Bajo                        Bajo                Bajo   \n",
              "\n",
              "     categoria_speechiness  categoria_total_playlists    prediccion  \n",
              "0                     Alto             Presencia alta  3.639440e+08  \n",
              "1                     Alto             Presencia alta  4.103760e+08  \n",
              "2                     Alto             Presencia alta  4.075394e+08  \n",
              "3                     Alto             Presencia alta  3.833031e+08  \n",
              "4                     Alto            Presencia media  3.470731e+08  \n",
              "..                     ...                        ...           ...  \n",
              "947                   Alto             Presencia baja  2.440566e+08  \n",
              "948                   Alto             Presencia baja  2.761560e+08  \n",
              "949                   Bajo            Presencia media  2.836707e+08  \n",
              "950                   Alto             Presencia baja  2.617237e+08  \n",
              "951                   Alto             Presencia baja  2.632167e+08  \n",
              "\n",
              "[952 rows x 35 columns]"
            ],
            "text/html": [
              "\n",
              "  <div id=\"df-0f48f7b1-87a0-47c5-ba82-6d6391090522\" class=\"colab-df-container\">\n",
              "    <div>\n",
              "<style scoped>\n",
              "    .dataframe tbody tr th:only-of-type {\n",
              "        vertical-align: middle;\n",
              "    }\n",
              "\n",
              "    .dataframe tbody tr th {\n",
              "        vertical-align: top;\n",
              "    }\n",
              "\n",
              "    .dataframe thead th {\n",
              "        text-align: right;\n",
              "    }\n",
              "</style>\n",
              "<table border=\"1\" class=\"dataframe\">\n",
              "  <thead>\n",
              "    <tr style=\"text-align: right;\">\n",
              "      <th></th>\n",
              "      <th>track_id</th>\n",
              "      <th>in_apple_playlists</th>\n",
              "      <th>in_apple_charts</th>\n",
              "      <th>in_deezer_playlists</th>\n",
              "      <th>in_deezer_charts</th>\n",
              "      <th>artist_count</th>\n",
              "      <th>in_spotify_playlists</th>\n",
              "      <th>in_spotify_charts</th>\n",
              "      <th>track_name_limpio</th>\n",
              "      <th>artist_name_limpio</th>\n",
              "      <th>...</th>\n",
              "      <th>categoria_bpm</th>\n",
              "      <th>categoria_danceability</th>\n",
              "      <th>categoria_valence</th>\n",
              "      <th>categoria_energy</th>\n",
              "      <th>categoria_acousticness</th>\n",
              "      <th>categoria_instrumentalness</th>\n",
              "      <th>categoria_liveness</th>\n",
              "      <th>categoria_speechiness</th>\n",
              "      <th>categoria_total_playlists</th>\n",
              "      <th>prediccion</th>\n",
              "    </tr>\n",
              "  </thead>\n",
              "  <tbody>\n",
              "    <tr>\n",
              "      <th>0</th>\n",
              "      <td>2106751</td>\n",
              "      <td>52</td>\n",
              "      <td>15</td>\n",
              "      <td>35</td>\n",
              "      <td>0</td>\n",
              "      <td>1</td>\n",
              "      <td>2551</td>\n",
              "      <td>0</td>\n",
              "      <td>Super Gremlin</td>\n",
              "      <td>Kodak Black</td>\n",
              "      <td>...</td>\n",
              "      <td>Bajo</td>\n",
              "      <td>Alto</td>\n",
              "      <td>Bajo</td>\n",
              "      <td>Bajo</td>\n",
              "      <td>Bajo</td>\n",
              "      <td>Alto</td>\n",
              "      <td>Alto</td>\n",
              "      <td>Alto</td>\n",
              "      <td>Presencia alta</td>\n",
              "      <td>3.639440e+08</td>\n",
              "    </tr>\n",
              "    <tr>\n",
              "      <th>1</th>\n",
              "      <td>7526938</td>\n",
              "      <td>71</td>\n",
              "      <td>95</td>\n",
              "      <td>31</td>\n",
              "      <td>0</td>\n",
              "      <td>1</td>\n",
              "      <td>3469</td>\n",
              "      <td>0</td>\n",
              "      <td>Shirt</td>\n",
              "      <td>SZA</td>\n",
              "      <td>...</td>\n",
              "      <td>Medio</td>\n",
              "      <td>Alto</td>\n",
              "      <td>Alto</td>\n",
              "      <td>Bajo</td>\n",
              "      <td>Bajo</td>\n",
              "      <td>Alto</td>\n",
              "      <td>Bajo</td>\n",
              "      <td>Alto</td>\n",
              "      <td>Presencia alta</td>\n",
              "      <td>4.103760e+08</td>\n",
              "    </tr>\n",
              "    <tr>\n",
              "      <th>2</th>\n",
              "      <td>5897675</td>\n",
              "      <td>32</td>\n",
              "      <td>6</td>\n",
              "      <td>46</td>\n",
              "      <td>0</td>\n",
              "      <td>1</td>\n",
              "      <td>3436</td>\n",
              "      <td>0</td>\n",
              "      <td>Ain t Shit</td>\n",
              "      <td>Doja Cat</td>\n",
              "      <td>...</td>\n",
              "      <td>Alto</td>\n",
              "      <td>Alto</td>\n",
              "      <td>Alto</td>\n",
              "      <td>Bajo</td>\n",
              "      <td>Alto</td>\n",
              "      <td>Alto</td>\n",
              "      <td>Alto</td>\n",
              "      <td>Alto</td>\n",
              "      <td>Presencia alta</td>\n",
              "      <td>4.075394e+08</td>\n",
              "    </tr>\n",
              "    <tr>\n",
              "      <th>3</th>\n",
              "      <td>8056641</td>\n",
              "      <td>43</td>\n",
              "      <td>15</td>\n",
              "      <td>116</td>\n",
              "      <td>0</td>\n",
              "      <td>1</td>\n",
              "      <td>2868</td>\n",
              "      <td>0</td>\n",
              "      <td>Life Goes On</td>\n",
              "      <td>Oliver Tree</td>\n",
              "      <td>...</td>\n",
              "      <td>Bajo</td>\n",
              "      <td>Alto</td>\n",
              "      <td>Alto</td>\n",
              "      <td>Bajo</td>\n",
              "      <td>Alto</td>\n",
              "      <td>Alto</td>\n",
              "      <td>Alto</td>\n",
              "      <td>Alto</td>\n",
              "      <td>Presencia alta</td>\n",
              "      <td>3.833031e+08</td>\n",
              "    </tr>\n",
              "    <tr>\n",
              "      <th>4</th>\n",
              "      <td>2835063</td>\n",
              "      <td>29</td>\n",
              "      <td>0</td>\n",
              "      <td>44</td>\n",
              "      <td>0</td>\n",
              "      <td>1</td>\n",
              "      <td>2226</td>\n",
              "      <td>0</td>\n",
              "      <td>2055</td>\n",
              "      <td>Sleepy hallow</td>\n",
              "      <td>...</td>\n",
              "      <td>Muy alto</td>\n",
              "      <td>Alto</td>\n",
              "      <td>Alto</td>\n",
              "      <td>Bajo</td>\n",
              "      <td>Alto</td>\n",
              "      <td>Alto</td>\n",
              "      <td>Bajo</td>\n",
              "      <td>Alto</td>\n",
              "      <td>Presencia media</td>\n",
              "      <td>3.470731e+08</td>\n",
              "    </tr>\n",
              "    <tr>\n",
              "      <th>...</th>\n",
              "      <td>...</td>\n",
              "      <td>...</td>\n",
              "      <td>...</td>\n",
              "      <td>...</td>\n",
              "      <td>...</td>\n",
              "      <td>...</td>\n",
              "      <td>...</td>\n",
              "      <td>...</td>\n",
              "      <td>...</td>\n",
              "      <td>...</td>\n",
              "      <td>...</td>\n",
              "      <td>...</td>\n",
              "      <td>...</td>\n",
              "      <td>...</td>\n",
              "      <td>...</td>\n",
              "      <td>...</td>\n",
              "      <td>...</td>\n",
              "      <td>...</td>\n",
              "      <td>...</td>\n",
              "      <td>...</td>\n",
              "      <td>...</td>\n",
              "    </tr>\n",
              "    <tr>\n",
              "      <th>947</th>\n",
              "      <td>1193878</td>\n",
              "      <td>6</td>\n",
              "      <td>14</td>\n",
              "      <td>8</td>\n",
              "      <td>2</td>\n",
              "      <td>2</td>\n",
              "      <td>215</td>\n",
              "      <td>6</td>\n",
              "      <td>Lilith  feat  SUGA of BTS   Diablo IV Anthem</td>\n",
              "      <td>Halsey  Suga</td>\n",
              "      <td>...</td>\n",
              "      <td>Bajo</td>\n",
              "      <td>Bajo</td>\n",
              "      <td>Bajo</td>\n",
              "      <td>Alto</td>\n",
              "      <td>Bajo</td>\n",
              "      <td>Bajo</td>\n",
              "      <td>Alto</td>\n",
              "      <td>Alto</td>\n",
              "      <td>Presencia baja</td>\n",
              "      <td>2.440566e+08</td>\n",
              "    </tr>\n",
              "    <tr>\n",
              "      <th>948</th>\n",
              "      <td>6644972</td>\n",
              "      <td>18</td>\n",
              "      <td>124</td>\n",
              "      <td>24</td>\n",
              "      <td>1</td>\n",
              "      <td>2</td>\n",
              "      <td>832</td>\n",
              "      <td>3</td>\n",
              "      <td>Layla</td>\n",
              "      <td>Sch  rze  DJ R</td>\n",
              "      <td>...</td>\n",
              "      <td>Alto</td>\n",
              "      <td>Bajo</td>\n",
              "      <td>Bajo</td>\n",
              "      <td>Alto</td>\n",
              "      <td>Bajo</td>\n",
              "      <td>Bajo</td>\n",
              "      <td>Alto</td>\n",
              "      <td>Alto</td>\n",
              "      <td>Presencia baja</td>\n",
              "      <td>2.761560e+08</td>\n",
              "    </tr>\n",
              "    <tr>\n",
              "      <th>949</th>\n",
              "      <td>2098417</td>\n",
              "      <td>7</td>\n",
              "      <td>29</td>\n",
              "      <td>51</td>\n",
              "      <td>1</td>\n",
              "      <td>2</td>\n",
              "      <td>967</td>\n",
              "      <td>5</td>\n",
              "      <td>Seu Brilho Sumiu   Ao Vivo</td>\n",
              "      <td>Israel   Rodolffo  Mari Fernandez</td>\n",
              "      <td>...</td>\n",
              "      <td>Muy alto</td>\n",
              "      <td>Bajo</td>\n",
              "      <td>Alto</td>\n",
              "      <td>Alto</td>\n",
              "      <td>Alto</td>\n",
              "      <td>Bajo</td>\n",
              "      <td>Alto</td>\n",
              "      <td>Bajo</td>\n",
              "      <td>Presencia media</td>\n",
              "      <td>2.836707e+08</td>\n",
              "    </tr>\n",
              "    <tr>\n",
              "      <th>950</th>\n",
              "      <td>6470158</td>\n",
              "      <td>13</td>\n",
              "      <td>46</td>\n",
              "      <td>20</td>\n",
              "      <td>1</td>\n",
              "      <td>4</td>\n",
              "      <td>551</td>\n",
              "      <td>4</td>\n",
              "      <td>Annihilate  Spider Man  Across the Spider Vers...</td>\n",
              "      <td>Swae Lee  Lil Wayne  Offset  Metro Boomin</td>\n",
              "      <td>...</td>\n",
              "      <td>Muy alto</td>\n",
              "      <td>Bajo</td>\n",
              "      <td>Bajo</td>\n",
              "      <td>Bajo</td>\n",
              "      <td>Alto</td>\n",
              "      <td>Bajo</td>\n",
              "      <td>Bajo</td>\n",
              "      <td>Alto</td>\n",
              "      <td>Presencia baja</td>\n",
              "      <td>2.617237e+08</td>\n",
              "    </tr>\n",
              "    <tr>\n",
              "      <th>951</th>\n",
              "      <td>8666108</td>\n",
              "      <td>22</td>\n",
              "      <td>18</td>\n",
              "      <td>15</td>\n",
              "      <td>1</td>\n",
              "      <td>5</td>\n",
              "      <td>577</td>\n",
              "      <td>14</td>\n",
              "      <td>Angel Pt 1  feat  Jimin of BTS  JVKE   Muni Long</td>\n",
              "      <td>Kodak Black  NLE Choppa  Muni Long  JVKE  Jimin</td>\n",
              "      <td>...</td>\n",
              "      <td>Bajo</td>\n",
              "      <td>Bajo</td>\n",
              "      <td>Bajo</td>\n",
              "      <td>Alto</td>\n",
              "      <td>Bajo</td>\n",
              "      <td>Bajo</td>\n",
              "      <td>Bajo</td>\n",
              "      <td>Alto</td>\n",
              "      <td>Presencia baja</td>\n",
              "      <td>2.632167e+08</td>\n",
              "    </tr>\n",
              "  </tbody>\n",
              "</table>\n",
              "<p>952 rows × 35 columns</p>\n",
              "</div>\n",
              "    <div class=\"colab-df-buttons\">\n",
              "\n",
              "  <div class=\"colab-df-container\">\n",
              "    <button class=\"colab-df-convert\" onclick=\"convertToInteractive('df-0f48f7b1-87a0-47c5-ba82-6d6391090522')\"\n",
              "            title=\"Convert this dataframe to an interactive table.\"\n",
              "            style=\"display:none;\">\n",
              "\n",
              "  <svg xmlns=\"http://www.w3.org/2000/svg\" height=\"24px\" viewBox=\"0 -960 960 960\">\n",
              "    <path d=\"M120-120v-720h720v720H120Zm60-500h600v-160H180v160Zm220 220h160v-160H400v160Zm0 220h160v-160H400v160ZM180-400h160v-160H180v160Zm440 0h160v-160H620v160ZM180-180h160v-160H180v160Zm440 0h160v-160H620v160Z\"/>\n",
              "  </svg>\n",
              "    </button>\n",
              "\n",
              "  <style>\n",
              "    .colab-df-container {\n",
              "      display:flex;\n",
              "      gap: 12px;\n",
              "    }\n",
              "\n",
              "    .colab-df-convert {\n",
              "      background-color: #E8F0FE;\n",
              "      border: none;\n",
              "      border-radius: 50%;\n",
              "      cursor: pointer;\n",
              "      display: none;\n",
              "      fill: #1967D2;\n",
              "      height: 32px;\n",
              "      padding: 0 0 0 0;\n",
              "      width: 32px;\n",
              "    }\n",
              "\n",
              "    .colab-df-convert:hover {\n",
              "      background-color: #E2EBFA;\n",
              "      box-shadow: 0px 1px 2px rgba(60, 64, 67, 0.3), 0px 1px 3px 1px rgba(60, 64, 67, 0.15);\n",
              "      fill: #174EA6;\n",
              "    }\n",
              "\n",
              "    .colab-df-buttons div {\n",
              "      margin-bottom: 4px;\n",
              "    }\n",
              "\n",
              "    [theme=dark] .colab-df-convert {\n",
              "      background-color: #3B4455;\n",
              "      fill: #D2E3FC;\n",
              "    }\n",
              "\n",
              "    [theme=dark] .colab-df-convert:hover {\n",
              "      background-color: #434B5C;\n",
              "      box-shadow: 0px 1px 3px 1px rgba(0, 0, 0, 0.15);\n",
              "      filter: drop-shadow(0px 1px 2px rgba(0, 0, 0, 0.3));\n",
              "      fill: #FFFFFF;\n",
              "    }\n",
              "  </style>\n",
              "\n",
              "    <script>\n",
              "      const buttonEl =\n",
              "        document.querySelector('#df-0f48f7b1-87a0-47c5-ba82-6d6391090522 button.colab-df-convert');\n",
              "      buttonEl.style.display =\n",
              "        google.colab.kernel.accessAllowed ? 'block' : 'none';\n",
              "\n",
              "      async function convertToInteractive(key) {\n",
              "        const element = document.querySelector('#df-0f48f7b1-87a0-47c5-ba82-6d6391090522');\n",
              "        const dataTable =\n",
              "          await google.colab.kernel.invokeFunction('convertToInteractive',\n",
              "                                                    [key], {});\n",
              "        if (!dataTable) return;\n",
              "\n",
              "        const docLinkHtml = 'Like what you see? Visit the ' +\n",
              "          '<a target=\"_blank\" href=https://colab.research.google.com/notebooks/data_table.ipynb>data table notebook</a>'\n",
              "          + ' to learn more about interactive tables.';\n",
              "        element.innerHTML = '';\n",
              "        dataTable['output_type'] = 'display_data';\n",
              "        await google.colab.output.renderOutput(dataTable, element);\n",
              "        const docLink = document.createElement('div');\n",
              "        docLink.innerHTML = docLinkHtml;\n",
              "        element.appendChild(docLink);\n",
              "      }\n",
              "    </script>\n",
              "  </div>\n",
              "\n",
              "\n",
              "<div id=\"df-a470fb3e-8027-46a2-8fc3-5ed3a25f1a38\">\n",
              "  <button class=\"colab-df-quickchart\" onclick=\"quickchart('df-a470fb3e-8027-46a2-8fc3-5ed3a25f1a38')\"\n",
              "            title=\"Suggest charts\"\n",
              "            style=\"display:none;\">\n",
              "\n",
              "<svg xmlns=\"http://www.w3.org/2000/svg\" height=\"24px\"viewBox=\"0 0 24 24\"\n",
              "     width=\"24px\">\n",
              "    <g>\n",
              "        <path d=\"M19 3H5c-1.1 0-2 .9-2 2v14c0 1.1.9 2 2 2h14c1.1 0 2-.9 2-2V5c0-1.1-.9-2-2-2zM9 17H7v-7h2v7zm4 0h-2V7h2v10zm4 0h-2v-4h2v4z\"/>\n",
              "    </g>\n",
              "</svg>\n",
              "  </button>\n",
              "\n",
              "<style>\n",
              "  .colab-df-quickchart {\n",
              "      --bg-color: #E8F0FE;\n",
              "      --fill-color: #1967D2;\n",
              "      --hover-bg-color: #E2EBFA;\n",
              "      --hover-fill-color: #174EA6;\n",
              "      --disabled-fill-color: #AAA;\n",
              "      --disabled-bg-color: #DDD;\n",
              "  }\n",
              "\n",
              "  [theme=dark] .colab-df-quickchart {\n",
              "      --bg-color: #3B4455;\n",
              "      --fill-color: #D2E3FC;\n",
              "      --hover-bg-color: #434B5C;\n",
              "      --hover-fill-color: #FFFFFF;\n",
              "      --disabled-bg-color: #3B4455;\n",
              "      --disabled-fill-color: #666;\n",
              "  }\n",
              "\n",
              "  .colab-df-quickchart {\n",
              "    background-color: var(--bg-color);\n",
              "    border: none;\n",
              "    border-radius: 50%;\n",
              "    cursor: pointer;\n",
              "    display: none;\n",
              "    fill: var(--fill-color);\n",
              "    height: 32px;\n",
              "    padding: 0;\n",
              "    width: 32px;\n",
              "  }\n",
              "\n",
              "  .colab-df-quickchart:hover {\n",
              "    background-color: var(--hover-bg-color);\n",
              "    box-shadow: 0 1px 2px rgba(60, 64, 67, 0.3), 0 1px 3px 1px rgba(60, 64, 67, 0.15);\n",
              "    fill: var(--button-hover-fill-color);\n",
              "  }\n",
              "\n",
              "  .colab-df-quickchart-complete:disabled,\n",
              "  .colab-df-quickchart-complete:disabled:hover {\n",
              "    background-color: var(--disabled-bg-color);\n",
              "    fill: var(--disabled-fill-color);\n",
              "    box-shadow: none;\n",
              "  }\n",
              "\n",
              "  .colab-df-spinner {\n",
              "    border: 2px solid var(--fill-color);\n",
              "    border-color: transparent;\n",
              "    border-bottom-color: var(--fill-color);\n",
              "    animation:\n",
              "      spin 1s steps(1) infinite;\n",
              "  }\n",
              "\n",
              "  @keyframes spin {\n",
              "    0% {\n",
              "      border-color: transparent;\n",
              "      border-bottom-color: var(--fill-color);\n",
              "      border-left-color: var(--fill-color);\n",
              "    }\n",
              "    20% {\n",
              "      border-color: transparent;\n",
              "      border-left-color: var(--fill-color);\n",
              "      border-top-color: var(--fill-color);\n",
              "    }\n",
              "    30% {\n",
              "      border-color: transparent;\n",
              "      border-left-color: var(--fill-color);\n",
              "      border-top-color: var(--fill-color);\n",
              "      border-right-color: var(--fill-color);\n",
              "    }\n",
              "    40% {\n",
              "      border-color: transparent;\n",
              "      border-right-color: var(--fill-color);\n",
              "      border-top-color: var(--fill-color);\n",
              "    }\n",
              "    60% {\n",
              "      border-color: transparent;\n",
              "      border-right-color: var(--fill-color);\n",
              "    }\n",
              "    80% {\n",
              "      border-color: transparent;\n",
              "      border-right-color: var(--fill-color);\n",
              "      border-bottom-color: var(--fill-color);\n",
              "    }\n",
              "    90% {\n",
              "      border-color: transparent;\n",
              "      border-bottom-color: var(--fill-color);\n",
              "    }\n",
              "  }\n",
              "</style>\n",
              "\n",
              "  <script>\n",
              "    async function quickchart(key) {\n",
              "      const quickchartButtonEl =\n",
              "        document.querySelector('#' + key + ' button');\n",
              "      quickchartButtonEl.disabled = true;  // To prevent multiple clicks.\n",
              "      quickchartButtonEl.classList.add('colab-df-spinner');\n",
              "      try {\n",
              "        const charts = await google.colab.kernel.invokeFunction(\n",
              "            'suggestCharts', [key], {});\n",
              "      } catch (error) {\n",
              "        console.error('Error during call to suggestCharts:', error);\n",
              "      }\n",
              "      quickchartButtonEl.classList.remove('colab-df-spinner');\n",
              "      quickchartButtonEl.classList.add('colab-df-quickchart-complete');\n",
              "    }\n",
              "    (() => {\n",
              "      let quickchartButtonEl =\n",
              "        document.querySelector('#df-a470fb3e-8027-46a2-8fc3-5ed3a25f1a38 button');\n",
              "      quickchartButtonEl.style.display =\n",
              "        google.colab.kernel.accessAllowed ? 'block' : 'none';\n",
              "    })();\n",
              "  </script>\n",
              "</div>\n",
              "\n",
              "  <div id=\"id_eeaa1126-54ee-46ad-9900-f67dbc9368a4\">\n",
              "    <style>\n",
              "      .colab-df-generate {\n",
              "        background-color: #E8F0FE;\n",
              "        border: none;\n",
              "        border-radius: 50%;\n",
              "        cursor: pointer;\n",
              "        display: none;\n",
              "        fill: #1967D2;\n",
              "        height: 32px;\n",
              "        padding: 0 0 0 0;\n",
              "        width: 32px;\n",
              "      }\n",
              "\n",
              "      .colab-df-generate:hover {\n",
              "        background-color: #E2EBFA;\n",
              "        box-shadow: 0px 1px 2px rgba(60, 64, 67, 0.3), 0px 1px 3px 1px rgba(60, 64, 67, 0.15);\n",
              "        fill: #174EA6;\n",
              "      }\n",
              "\n",
              "      [theme=dark] .colab-df-generate {\n",
              "        background-color: #3B4455;\n",
              "        fill: #D2E3FC;\n",
              "      }\n",
              "\n",
              "      [theme=dark] .colab-df-generate:hover {\n",
              "        background-color: #434B5C;\n",
              "        box-shadow: 0px 1px 3px 1px rgba(0, 0, 0, 0.15);\n",
              "        filter: drop-shadow(0px 1px 2px rgba(0, 0, 0, 0.3));\n",
              "        fill: #FFFFFF;\n",
              "      }\n",
              "    </style>\n",
              "    <button class=\"colab-df-generate\" onclick=\"generateWithVariable('data')\"\n",
              "            title=\"Generate code using this dataframe.\"\n",
              "            style=\"display:none;\">\n",
              "\n",
              "  <svg xmlns=\"http://www.w3.org/2000/svg\" height=\"24px\"viewBox=\"0 0 24 24\"\n",
              "       width=\"24px\">\n",
              "    <path d=\"M7,19H8.4L18.45,9,17,7.55,7,17.6ZM5,21V16.75L18.45,3.32a2,2,0,0,1,2.83,0l1.4,1.43a1.91,1.91,0,0,1,.58,1.4,1.91,1.91,0,0,1-.58,1.4L9.25,21ZM18.45,9,17,7.55Zm-12,3A5.31,5.31,0,0,0,4.9,8.1,5.31,5.31,0,0,0,1,6.5,5.31,5.31,0,0,0,4.9,4.9,5.31,5.31,0,0,0,6.5,1,5.31,5.31,0,0,0,8.1,4.9,5.31,5.31,0,0,0,12,6.5,5.46,5.46,0,0,0,6.5,12Z\"/>\n",
              "  </svg>\n",
              "    </button>\n",
              "    <script>\n",
              "      (() => {\n",
              "      const buttonEl =\n",
              "        document.querySelector('#id_eeaa1126-54ee-46ad-9900-f67dbc9368a4 button.colab-df-generate');\n",
              "      buttonEl.style.display =\n",
              "        google.colab.kernel.accessAllowed ? 'block' : 'none';\n",
              "\n",
              "      buttonEl.onclick = () => {\n",
              "        google.colab.notebook.generateWithVariable('data');\n",
              "      }\n",
              "      })();\n",
              "    </script>\n",
              "  </div>\n",
              "\n",
              "    </div>\n",
              "  </div>\n"
            ]
          },
          "metadata": {},
          "execution_count": 14
        }
      ]
    },
    {
      "cell_type": "code",
      "source": [
        "ax = data.plot.line(x=\"total_playlists\", y=\"prediccion\")\n",
        "data.plot.scatter(x=\"total_playlists\", y=\"streams_limpio\", ax= ax, color=\"#2d0c62\", figsize=(12,7))"
      ],
      "metadata": {
        "colab": {
          "base_uri": "https://localhost:8080/",
          "height": 651
        },
        "id": "F57z2fxuaQgy",
        "outputId": "b5e0ed6b-5581-4359-e202-4d98169b0f85"
      },
      "execution_count": null,
      "outputs": [
        {
          "output_type": "execute_result",
          "data": {
            "text/plain": [
              "<Axes: xlabel='total_playlists', ylabel='streams_limpio'>"
            ]
          },
          "metadata": {},
          "execution_count": 16
        },
        {
          "output_type": "display_data",
          "data": {
            "text/plain": [
              "<Figure size 1200x700 with 1 Axes>"
            ],
            "image/png": "[encoded data removed]"
          },
          "metadata": {}
        }
      ]
    },
    {
      "cell_type": "markdown",
      "source": [
        "####bpm vs streams"
      ],
      "metadata": {
        "id": "UZbAgSZ38-Y0"
      }
    },
    {
      "cell_type": "code",
      "source": [
        "import pandas as pd\n",
        "from sklearn.linear_model import LinearRegression\n",
        "\n",
        "data=pd.read_csv(\"/content/drive/MyDrive/bq-results-20231212-220518-1702418728673/bq-results-20231212-220518-1702418728673.csv\")\n",
        "\n",
        "data.plot.scatter(x=\"bpm\", y=\"streams_limpio\")"
      ],
      "metadata": {
        "colab": {
          "base_uri": "https://localhost:8080/",
          "height": 482
        },
        "id": "qs2qlb9b88b2",
        "outputId": "7a4cc8c8-a26c-4ffb-b16d-9e2c2fb49da3"
      },
      "execution_count": null,
      "outputs": [
        {
          "output_type": "execute_result",
          "data": {
            "text/plain": [
              "<Axes: xlabel='bpm', ylabel='streams_limpio'>"
            ]
          },
          "metadata": {},
          "execution_count": 17
        },
        {
          "output_type": "display_data",
          "data": {
            "text/plain": [
              "<Figure size 640x480 with 1 Axes>"
            ],
            "image/png": "[encoded data removed]"
          },
          "metadata": {}
        }
      ]
    },
    {
      "cell_type": "code",
      "source": [
        "regdos = LinearRegression()"
      ],
      "metadata": {
        "id": "akhKo46C9VO5"
      },
      "execution_count": null,
      "outputs": []
    },
    {
      "cell_type": "code",
      "source": [
        "regdos.fit(data[[\"bpm\"]], data[\"streams_limpio\"])"
      ],
      "metadata": {
        "colab": {
          "base_uri": "https://localhost:8080/",
          "height": 75
        },
        "id": "APL3XsUr9YDi",
        "outputId": "c9adc20b-f92c-49b0-870a-1b6f8f3893f5"
      },
      "execution_count": null,
      "outputs": [
        {
          "output_type": "execute_result",
          "data": {
            "text/plain": [
              "LinearRegression()"
            ],
            "text/html": [
              "<style>#sk-container-id-4 {color: black;background-color: white;}#sk-container-id-4 pre{padding: 0;}#sk-container-id-4 div.sk-toggleable {background-color: white;}#sk-container-id-4 label.sk-toggleable__label {cursor: pointer;display: block;width: 100%;margin-bottom: 0;padding: 0.3em;box-sizing: border-box;text-align: center;}#sk-container-id-4 label.sk-toggleable__label-arrow:before {content: \"▸\";float: left;margin-right: 0.25em;color: #696969;}#sk-container-id-4 label.sk-toggleable__label-arrow:hover:before {color: black;}#sk-container-id-4 div.sk-estimator:hover label.sk-toggleable__label-arrow:before {color: black;}#sk-container-id-4 div.sk-toggleable__content {max-height: 0;max-width: 0;overflow: hidden;text-align: left;background-color: #f0f8ff;}#sk-container-id-4 div.sk-toggleable__content pre {margin: 0.2em;color: black;border-radius: 0.25em;background-color: #f0f8ff;}#sk-container-id-4 input.sk-toggleable__control:checked~div.sk-toggleable__content {max-height: 200px;max-width: 100%;overflow: auto;}#sk-container-id-4 input.sk-toggleable__control:checked~label.sk-toggleable__label-arrow:before {content: \"▾\";}#sk-container-id-4 div.sk-estimator input.sk-toggleable__control:checked~label.sk-toggleable__label {background-color: #d4ebff;}#sk-container-id-4 div.sk-label input.sk-toggleable__control:checked~label.sk-toggleable__label {background-color: #d4ebff;}#sk-container-id-4 input.sk-hidden--visually {border: 0;clip: rect(1px 1px 1px 1px);clip: rect(1px, 1px, 1px, 1px);height: 1px;margin: -1px;overflow: hidden;padding: 0;position: absolute;width: 1px;}#sk-container-id-4 div.sk-estimator {font-family: monospace;background-color: #f0f8ff;border: 1px dotted black;border-radius: 0.25em;box-sizing: border-box;margin-bottom: 0.5em;}#sk-container-id-4 div.sk-estimator:hover {background-color: #d4ebff;}#sk-container-id-4 div.sk-parallel-item::after {content: \"\";width: 100%;border-bottom: 1px solid gray;flex-grow: 1;}#sk-container-id-4 div.sk-label:hover label.sk-toggleable__label {background-color: #d4ebff;}#sk-container-id-4 div.sk-serial::before {content: \"\";position: absolute;border-left: 1px solid gray;box-sizing: border-box;top: 0;bottom: 0;left: 50%;z-index: 0;}#sk-container-id-4 div.sk-serial {display: flex;flex-direction: column;align-items: center;background-color: white;padding-right: 0.2em;padding-left: 0.2em;position: relative;}#sk-container-id-4 div.sk-item {position: relative;z-index: 1;}#sk-container-id-4 div.sk-parallel {display: flex;align-items: stretch;justify-content: center;background-color: white;position: relative;}#sk-container-id-4 div.sk-item::before, #sk-container-id-4 div.sk-parallel-item::before {content: \"\";position: absolute;border-left: 1px solid gray;box-sizing: border-box;top: 0;bottom: 0;left: 50%;z-index: -1;}#sk-container-id-4 div.sk-parallel-item {display: flex;flex-direction: column;z-index: 1;position: relative;background-color: white;}#sk-container-id-4 div.sk-parallel-item:first-child::after {align-self: flex-end;width: 50%;}#sk-container-id-4 div.sk-parallel-item:last-child::after {align-self: flex-start;width: 50%;}#sk-container-id-4 div.sk-parallel-item:only-child::after {width: 0;}#sk-container-id-4 div.sk-dashed-wrapped {border: 1px dashed gray;margin: 0 0.4em 0.5em 0.4em;box-sizing: border-box;padding-bottom: 0.4em;background-color: white;}#sk-container-id-4 div.sk-label label {font-family: monospace;font-weight: bold;display: inline-block;line-height: 1.2em;}#sk-container-id-4 div.sk-label-container {text-align: center;}#sk-container-id-4 div.sk-container {/* jupyter's `normalize.less` sets `[hidden] { display: none; }` but bootstrap.min.css set `[hidden] { display: none !important; }` so we also need the `!important` here to be able to override the default hidden behavior on the sphinx rendered scikit-learn.org. See: https://github.com/scikit-learn/scikit-learn/issues/21755 */display: inline-block !important;position: relative;}#sk-container-id-4 div.sk-text-repr-fallback {display: none;}</style><div id=\"sk-container-id-4\" class=\"sk-top-container\"><div class=\"sk-text-repr-fallback\"><pre>LinearRegression()</pre><b>In a Jupyter environment, please rerun this cell to show the HTML representation or trust the notebook. <br />On GitHub, the HTML representation is unable to render, please try loading this page with nbviewer.org.</b></div><div class=\"sk-container\" hidden><div class=\"sk-item\"><div class=\"sk-estimator sk-toggleable\"><input class=\"sk-toggleable__control sk-hidden--visually\" id=\"sk-estimator-id-4\" type=\"checkbox\" checked><label for=\"sk-estimator-id-4\" class=\"sk-toggleable__label sk-toggleable__label-arrow\">LinearRegression</label><div class=\"sk-toggleable__content\"><pre>LinearRegression()</pre></div></div></div></div></div>"
            ]
          },
          "metadata": {},
          "execution_count": 22
        }
      ]
    },
    {
      "cell_type": "code",
      "source": [
        "regdos.predict([[300],[400]])"
      ],
      "metadata": {
        "colab": {
          "base_uri": "https://localhost:8080/"
        },
        "id": "Mr4Qd7cq9kzA",
        "outputId": "96ce4da8-417f-48e3-c839-274ea0ee1717"
      },
      "execution_count": null,
      "outputs": [
        {
          "output_type": "stream",
          "name": "stderr",
          "text": [
            "/usr/local/lib/python3.10/dist-packages/sklearn/base.py:439: UserWarning: X does not have valid feature names, but LinearRegression was fitted with feature names\n",
            "  warnings.warn(\n"
          ]
        },
        {
          "output_type": "execute_result",
          "data": {
            "text/plain": [
              "array([5.05401240e+08, 5.00477959e+08])"
            ]
          },
          "metadata": {},
          "execution_count": 23
        }
      ]
    },
    {
      "cell_type": "code",
      "source": [
        "print(f\"la línea intersecta en : {regdos.intercept_} y tiene una pendiente de { regdos.coef_}\")"
      ],
      "metadata": {
        "colab": {
          "base_uri": "https://localhost:8080/"
        },
        "id": "Shhv_ktE9z-y",
        "outputId": "34a294b3-124a-4a4e-c8fd-fffd027f0159"
      },
      "execution_count": null,
      "outputs": [
        {
          "output_type": "stream",
          "name": "stdout",
          "text": [
            "la línea intersecta en : 520171080.96211094 y tiene una pendiente de [-49232.80450094]\n"
          ]
        }
      ]
    },
    {
      "cell_type": "code",
      "source": [
        "regdos.coef_ * data[\"bpm\"] + regdos.intercept_"
      ],
      "metadata": {
        "colab": {
          "base_uri": "https://localhost:8080/"
        },
        "id": "DRtr8og6-E6k",
        "outputId": "a0afdd55-2a24-4012-985e-3560c90660d6"
      },
      "execution_count": null,
      "outputs": [
        {
          "output_type": "execute_result",
          "data": {
            "text/plain": [
              "0      5.165771e+08\n",
              "1      5.142631e+08\n",
              "2      5.140662e+08\n",
              "3      5.162325e+08\n",
              "4      5.122446e+08\n",
              "           ...     \n",
              "947    5.160355e+08\n",
              "948    5.132785e+08\n",
              "949    5.125892e+08\n",
              "950    5.129831e+08\n",
              "951    5.165279e+08\n",
              "Name: bpm, Length: 952, dtype: float64"
            ]
          },
          "metadata": {},
          "execution_count": 25
        }
      ]
    },
    {
      "cell_type": "code",
      "source": [
        "predic = pd.Series(regdos.predict(data[[\"bpm\"]]))"
      ],
      "metadata": {
        "id": "wh41uXvg-OGa"
      },
      "execution_count": null,
      "outputs": []
    },
    {
      "cell_type": "code",
      "source": [
        "data[\"prediccion\"] = predic"
      ],
      "metadata": {
        "id": "ry6GumQ5-WDf"
      },
      "execution_count": null,
      "outputs": []
    },
    {
      "cell_type": "code",
      "source": [
        "predic"
      ],
      "metadata": {
        "colab": {
          "base_uri": "https://localhost:8080/"
        },
        "id": "lXi8-Eqr-bdm",
        "outputId": "0dafb985-2130-49c9-d386-351b9f5852a2"
      },
      "execution_count": null,
      "outputs": [
        {
          "output_type": "execute_result",
          "data": {
            "text/plain": [
              "0      5.165771e+08\n",
              "1      5.142631e+08\n",
              "2      5.140662e+08\n",
              "3      5.162325e+08\n",
              "4      5.122446e+08\n",
              "           ...     \n",
              "947    5.160355e+08\n",
              "948    5.132785e+08\n",
              "949    5.125892e+08\n",
              "950    5.129831e+08\n",
              "951    5.165279e+08\n",
              "Length: 952, dtype: float64"
            ]
          },
          "metadata": {},
          "execution_count": 29
        }
      ]
    },
    {
      "cell_type": "code",
      "source": [
        "import matplotlib.pyplot as plt\n",
        "\n",
        "ax = data.plot.line(x=\"bpm\", y=\"prediccion\")\n",
        "\n",
        "data.plot.scatter(x=\"bpm\", y=\"streams_limpio\", ax= ax, color=\"purple\", figsize=(12,7))\n",
        "\n",
        "plt.title(\"Regresión lineal bpm vs streams\")\n",
        "plt.xlabel(\"BPM (Pulsaciones por Minuto)\")\n",
        "plt.ylabel(\"Cantidad de Streams\")\n"
      ],
      "metadata": {
        "colab": {
          "base_uri": "https://localhost:8080/",
          "height": 659
        },
        "id": "hanK5sF7-lc3",
        "outputId": "adf25e10-faad-493a-e223-59f31b14e070"
      },
      "execution_count": null,
      "outputs": [
        {
          "output_type": "execute_result",
          "data": {
            "text/plain": [
              "Text(0, 0.5, 'Cantidad de Streams')"
            ]
          },
          "metadata": {},
          "execution_count": 37
        },
        {
          "output_type": "display_data",
          "data": {
            "text/plain": [
              "<Figure size 1200x700 with 1 Axes>"
            ],
            "image/png": "[encoded data removed]"
          },
          "metadata": {}
        }
      ]
    }
  ]
}